{
 "cells": [
  {
   "cell_type": "code",
   "execution_count": 8,
   "metadata": {},
   "outputs": [
    {
     "name": "stdout",
     "output_type": "stream",
     "text": [
      "Dash is running on http://127.0.0.1:8050/\n",
      "\n",
      "Dash is running on http://127.0.0.1:8050/\n",
      "\n",
      "Dash is running on http://127.0.0.1:8050/\n",
      "\n",
      "Dash is running on http://127.0.0.1:8050/\n",
      "\n",
      "Dash is running on http://127.0.0.1:8050/\n",
      "\n",
      "Dash is running on http://127.0.0.1:8050/\n",
      "\n",
      "Dash is running on http://127.0.0.1:8050/\n",
      "\n",
      "Dash is running on http://127.0.0.1:8050/\n",
      "\n",
      " * Serving Flask app '__main__'\n",
      " * Debug mode: off\n"
     ]
    },
    {
     "name": "stderr",
     "output_type": "stream",
     "text": [
      "WARNING: This is a development server. Do not use it in a production deployment. Use a production WSGI server instead.\n",
      " * Running on http://127.0.0.1:8050\n",
      "Press CTRL+C to quit\n",
      "Exception in thread Thread-87:\n",
      "Traceback (most recent call last):\n",
      "  File \"d:\\U\\Python\\lib\\site-packages\\urllib3\\connection.py\", line 198, in _new_conn\n",
      "    sock = connection.create_connection(\n",
      "  File \"d:\\U\\Python\\lib\\site-packages\\urllib3\\util\\connection.py\", line 85, in create_connection\n",
      "    raise err\n",
      "  File \"d:\\U\\Python\\lib\\site-packages\\urllib3\\util\\connection.py\", line 73, in create_connection\n",
      "    sock.connect(sa)\n",
      "ConnectionRefusedError: [WinError 10061] No se puede establecer una conexión ya que el equipo de destino denegó expresamente dicha conexión\n",
      "\n",
      "The above exception was the direct cause of the following exception:\n",
      "\n",
      "Traceback (most recent call last):\n",
      "  File \"d:\\U\\Python\\lib\\site-packages\\urllib3\\connectionpool.py\", line 793, in urlopen\n",
      "    response = self._make_request(\n",
      "  File \"d:\\U\\Python\\lib\\site-packages\\urllib3\\connectionpool.py\", line 496, in _make_request\n",
      "    conn.request(\n",
      "  File \"d:\\U\\Python\\lib\\site-packages\\urllib3\\connection.py\", line 400, in request\n",
      "    self.endheaders()\n",
      "  File \"d:\\U\\Python\\lib\\http\\client.py\", line 1277, in endheaders\n",
      "    self._send_output(message_body, encode_chunked=encode_chunked)\n",
      "  File \"d:\\U\\Python\\lib\\http\\client.py\", line 1037, in _send_output\n",
      "    self.send(msg)\n",
      "  File \"d:\\U\\Python\\lib\\http\\client.py\", line 975, in send\n",
      "    self.connect()\n",
      "  File \"d:\\U\\Python\\lib\\site-packages\\urllib3\\connection.py\", line 238, in connect\n",
      "    self.sock = self._new_conn()\n",
      "  File \"d:\\U\\Python\\lib\\site-packages\\urllib3\\connection.py\", line 213, in _new_conn\n",
      "    raise NewConnectionError(\n",
      "urllib3.exceptions.NewConnectionError: <urllib3.connection.HTTPConnection object at 0x00000189E3905FC0>: Failed to establish a new connection: [WinError 10061] No se puede establecer una conexión ya que el equipo de destino denegó expresamente dicha conexión\n",
      "\n",
      "The above exception was the direct cause of the following exception:\n",
      "\n",
      "Traceback (most recent call last):\n",
      "  File \"d:\\U\\Python\\lib\\site-packages\\requests\\adapters.py\", line 486, in send\n",
      "    resp = conn.urlopen(\n",
      "  File \"d:\\U\\Python\\lib\\site-packages\\urllib3\\connectionpool.py\", line 847, in urlopen\n",
      "    retries = retries.increment(\n",
      "  File \"d:\\U\\Python\\lib\\site-packages\\urllib3\\util\\retry.py\", line 515, in increment\n",
      "    raise MaxRetryError(_pool, url, reason) from reason  # type: ignore[arg-type]\n",
      "urllib3.exceptions.MaxRetryError: HTTPConnectionPool(host='localhost', port=4040): Max retries exceeded with url: /api/tunnels (Caused by NewConnectionError('<urllib3.connection.HTTPConnection object at 0x00000189E3905FC0>: Failed to establish a new connection: [WinError 10061] No se puede establecer una conexión ya que el equipo de destino denegó expresamente dicha conexión'))\n",
      "\n",
      "During handling of the above exception, another exception occurred:\n",
      "\n",
      "Traceback (most recent call last):\n",
      "  File \"d:\\U\\Python\\lib\\threading.py\", line 1016, in _bootstrap_inner\n",
      "    self.run()\n",
      "  File \"d:\\U\\Python\\lib\\threading.py\", line 1378, in run\n",
      "    self.function(*self.args, **self.kwargs)\n",
      "  File \"d:\\U\\Python\\lib\\site-packages\\flask_ngrok.py\", line 70, in start_ngrok\n",
      "    ngrok_address = _run_ngrok()\n",
      "  File \"d:\\U\\Python\\lib\\site-packages\\flask_ngrok.py\", line 35, in _run_ngrok\n",
      "    tunnel_url = requests.get(localhost_url).text  # Get the tunnel information\n",
      "  File \"d:\\U\\Python\\lib\\site-packages\\requests\\api.py\", line 73, in get\n",
      "    return request(\"get\", url, params=params, **kwargs)\n",
      "  File \"d:\\U\\Python\\lib\\site-packages\\requests\\api.py\", line 59, in request\n",
      "    return session.request(method=method, url=url, **kwargs)\n",
      "  File \"d:\\U\\Python\\lib\\site-packages\\requests\\sessions.py\", line 589, in request\n",
      "    resp = self.send(prep, **send_kwargs)\n",
      "  File \"d:\\U\\Python\\lib\\site-packages\\requests\\sessions.py\", line 703, in send\n",
      "    r = adapter.send(request, **kwargs)\n",
      "  File \"d:\\U\\Python\\lib\\site-packages\\requests\\adapters.py\", line 519, in send\n",
      "    raise ConnectionError(e, request=request)\n",
      "requests.exceptions.ConnectionError: HTTPConnectionPool(host='localhost', port=4040): Max retries exceeded with url: /api/tunnels (Caused by NewConnectionError('<urllib3.connection.HTTPConnection object at 0x00000189E3905FC0>: Failed to establish a new connection: [WinError 10061] No se puede establecer una conexión ya que el equipo de destino denegó expresamente dicha conexión'))\n",
      "127.0.0.1 - - [03/Jul/2024 15:45:56] \"GET / HTTP/1.1\" 200 -\n",
      "127.0.0.1 - - [03/Jul/2024 15:45:56] \"GET /_dash-layout HTTP/1.1\" 200 -\n",
      "127.0.0.1 - - [03/Jul/2024 15:45:56] \"GET /_dash-dependencies HTTP/1.1\" 200 -\n",
      "127.0.0.1 - - [03/Jul/2024 15:45:56] \"GET /_favicon.ico?v=2.8.1 HTTP/1.1\" 200 -\n"
     ]
    },
    {
     "name": "stdout",
     "output_type": "stream",
     "text": [
      "Exception on /_dash-update-component [POST]\n",
      "Traceback (most recent call last):\n",
      "  File \"d:\\U\\Python\\lib\\site-packages\\flask\\app.py\", line 1473, in wsgi_app\n",
      "    response = self.full_dispatch_request()\n",
      "  File \"d:\\U\\Python\\lib\\site-packages\\flask\\app.py\", line 882, in full_dispatch_request\n",
      "    rv = self.handle_user_exception(e)\n",
      "  File \"d:\\U\\Python\\lib\\site-packages\\flask\\app.py\", line 880, in full_dispatch_request\n",
      "    rv = self.dispatch_request()\n",
      "  File \"d:\\U\\Python\\lib\\site-packages\\flask\\app.py\", line 865, in dispatch_request\n",
      "    return self.ensure_sync(self.view_functions[rule.endpoint])(**view_args)  # type: ignore[no-any-return]\n",
      "  File \"d:\\U\\Python\\lib\\site-packages\\dash\\dash.py\", line 1273, in dispatch\n",
      "    ctx.run(\n",
      "  File \"d:\\U\\Python\\lib\\site-packages\\dash\\_callback.py\", line 440, in add_context\n",
      "    output_value = func(*func_args, **func_kwargs)  # %% callback invoked %%\n",
      "  File \"C:\\Users\\vliza\\AppData\\Local\\Temp\\ipykernel_14304\\1331575113.py\", line 66, in render_content\n",
      "    dcc.Input(id='input-temp', type='number', value=5000, step=100, min=0, max=40000, className='form-control mb-2'),\n",
      "NameError: name 'dcc' is not defined. Did you mean: 'dbc'?\n",
      "Exception on /_dash-update-component [POST]\n",
      "Traceback (most recent call last):\n",
      "  File \"d:\\U\\Python\\lib\\site-packages\\flask\\app.py\", line 1473, in wsgi_app\n",
      "    response = self.full_dispatch_request()\n",
      "  File \"d:\\U\\Python\\lib\\site-packages\\flask\\app.py\", line 882, in full_dispatch_request\n",
      "    rv = self.handle_user_exception(e)\n",
      "  File \"d:\\U\\Python\\lib\\site-packages\\flask\\app.py\", line 880, in full_dispatch_request\n",
      "    rv = self.dispatch_request()\n",
      "  File \"d:\\U\\Python\\lib\\site-packages\\flask\\app.py\", line 865, in dispatch_request\n",
      "    return self.ensure_sync(self.view_functions[rule.endpoint])(**view_args)  # type: ignore[no-any-return]\n",
      "  File \"d:\\U\\Python\\lib\\site-packages\\dash\\dash.py\", line 1273, in dispatch\n",
      "    ctx.run(\n",
      "  File \"d:\\U\\Python\\lib\\site-packages\\dash\\_callback.py\", line 440, in add_context\n",
      "    output_value = func(*func_args, **func_kwargs)  # %% callback invoked %%\n",
      "  File \"C:\\Users\\vliza\\AppData\\Local\\Temp\\ipykernel_14304\\1331575113.py\", line 66, in render_content\n",
      "    dcc.Input(id='input-temp', type='number', value=5000, step=100, min=0, max=40000, className='form-control mb-2'),\n",
      "NameError: name 'dcc' is not defined. Did you mean: 'dbc'?\n",
      "Exception on /_dash-update-component [POST]\n",
      "Traceback (most recent call last):\n",
      "  File \"d:\\U\\Python\\lib\\site-packages\\flask\\app.py\", line 1473, in wsgi_app\n",
      "    response = self.full_dispatch_request()\n",
      "  File \"d:\\U\\Python\\lib\\site-packages\\flask\\app.py\", line 882, in full_dispatch_request\n",
      "    rv = self.handle_user_exception(e)\n",
      "  File \"d:\\U\\Python\\lib\\site-packages\\flask\\app.py\", line 880, in full_dispatch_request\n",
      "    rv = self.dispatch_request()\n",
      "  File \"d:\\U\\Python\\lib\\site-packages\\flask\\app.py\", line 865, in dispatch_request\n",
      "    return self.ensure_sync(self.view_functions[rule.endpoint])(**view_args)  # type: ignore[no-any-return]\n",
      "  File \"d:\\U\\Python\\lib\\site-packages\\dash\\dash.py\", line 1273, in dispatch\n",
      "    ctx.run(\n",
      "  File \"d:\\U\\Python\\lib\\site-packages\\dash\\_callback.py\", line 440, in add_context\n",
      "    output_value = func(*func_args, **func_kwargs)  # %% callback invoked %%\n",
      "  File \"C:\\Users\\vliza\\AppData\\Local\\Temp\\ipykernel_14304\\1331575113.py\", line 66, in render_content\n",
      "    dcc.Input(id='input-temp', type='number', value=5000, step=100, min=0, max=40000, className='form-control mb-2'),\n",
      "NameError: name 'dcc' is not defined. Did you mean: 'dbc'?\n",
      "Exception on /_dash-update-component [POST]\n",
      "Traceback (most recent call last):\n",
      "  File \"d:\\U\\Python\\lib\\site-packages\\flask\\app.py\", line 1473, in wsgi_app\n",
      "    response = self.full_dispatch_request()\n",
      "  File \"d:\\U\\Python\\lib\\site-packages\\flask\\app.py\", line 882, in full_dispatch_request\n",
      "    rv = self.handle_user_exception(e)\n",
      "  File \"d:\\U\\Python\\lib\\site-packages\\flask\\app.py\", line 880, in full_dispatch_request\n",
      "    rv = self.dispatch_request()\n",
      "  File \"d:\\U\\Python\\lib\\site-packages\\flask\\app.py\", line 865, in dispatch_request\n",
      "    return self.ensure_sync(self.view_functions[rule.endpoint])(**view_args)  # type: ignore[no-any-return]\n",
      "  File \"d:\\U\\Python\\lib\\site-packages\\dash\\dash.py\", line 1273, in dispatch\n",
      "    ctx.run(\n",
      "  File \"d:\\U\\Python\\lib\\site-packages\\dash\\_callback.py\", line 440, in add_context\n",
      "    output_value = func(*func_args, **func_kwargs)  # %% callback invoked %%\n",
      "  File \"C:\\Users\\vliza\\AppData\\Local\\Temp\\ipykernel_14304\\1331575113.py\", line 66, in render_content\n",
      "    dcc.Input(id='input-temp', type='number', value=5000, step=100, min=0, max=40000, className='form-control mb-2'),\n",
      "NameError: name 'dcc' is not defined. Did you mean: 'dbc'?\n",
      "Exception on /_dash-update-component [POST]\n",
      "Traceback (most recent call last):\n",
      "  File \"d:\\U\\Python\\lib\\site-packages\\flask\\app.py\", line 1473, in wsgi_app\n",
      "    response = self.full_dispatch_request()\n",
      "  File \"d:\\U\\Python\\lib\\site-packages\\flask\\app.py\", line 882, in full_dispatch_request\n",
      "    rv = self.handle_user_exception(e)\n",
      "  File \"d:\\U\\Python\\lib\\site-packages\\flask\\app.py\", line 880, in full_dispatch_request\n",
      "    rv = self.dispatch_request()\n",
      "  File \"d:\\U\\Python\\lib\\site-packages\\flask\\app.py\", line 865, in dispatch_request\n",
      "    return self.ensure_sync(self.view_functions[rule.endpoint])(**view_args)  # type: ignore[no-any-return]\n",
      "  File \"d:\\U\\Python\\lib\\site-packages\\dash\\dash.py\", line 1273, in dispatch\n",
      "    ctx.run(\n",
      "  File \"d:\\U\\Python\\lib\\site-packages\\dash\\_callback.py\", line 440, in add_context\n",
      "    output_value = func(*func_args, **func_kwargs)  # %% callback invoked %%\n",
      "  File \"C:\\Users\\vliza\\AppData\\Local\\Temp\\ipykernel_14304\\1331575113.py\", line 66, in render_content\n",
      "    dcc.Input(id='input-temp', type='number', value=5000, step=100, min=0, max=40000, className='form-control mb-2'),\n",
      "NameError: name 'dcc' is not defined. Did you mean: 'dbc'?\n",
      "Exception on /_dash-update-component [POST]\n",
      "Traceback (most recent call last):\n",
      "  File \"d:\\U\\Python\\lib\\site-packages\\flask\\app.py\", line 1473, in wsgi_app\n",
      "    response = self.full_dispatch_request()\n",
      "  File \"d:\\U\\Python\\lib\\site-packages\\flask\\app.py\", line 882, in full_dispatch_request\n",
      "    rv = self.handle_user_exception(e)\n",
      "  File \"d:\\U\\Python\\lib\\site-packages\\flask\\app.py\", line 880, in full_dispatch_request\n",
      "    rv = self.dispatch_request()\n",
      "  File \"d:\\U\\Python\\lib\\site-packages\\flask\\app.py\", line 865, in dispatch_request\n",
      "    return self.ensure_sync(self.view_functions[rule.endpoint])(**view_args)  # type: ignore[no-any-return]\n",
      "  File \"d:\\U\\Python\\lib\\site-packages\\dash\\dash.py\", line 1273, in dispatch\n",
      "    ctx.run(\n",
      "  File \"d:\\U\\Python\\lib\\site-packages\\dash\\_callback.py\", line 440, in add_context\n",
      "    output_value = func(*func_args, **func_kwargs)  # %% callback invoked %%\n",
      "  File \"C:\\Users\\vliza\\AppData\\Local\\Temp\\ipykernel_14304\\1331575113.py\", line 66, in render_content\n",
      "    dcc.Input(id='input-temp', type='number', value=5000, step=100, min=0, max=40000, className='form-control mb-2'),\n",
      "NameError: name 'dcc' is not defined. Did you mean: 'dbc'?\n",
      "Exception on /_dash-update-component [POST]\n",
      "Traceback (most recent call last):\n",
      "  File \"d:\\U\\Python\\lib\\site-packages\\flask\\app.py\", line 1473, in wsgi_app\n",
      "    response = self.full_dispatch_request()\n",
      "  File \"d:\\U\\Python\\lib\\site-packages\\flask\\app.py\", line 882, in full_dispatch_request\n",
      "    rv = self.handle_user_exception(e)\n",
      "  File \"d:\\U\\Python\\lib\\site-packages\\flask\\app.py\", line 880, in full_dispatch_request\n",
      "    rv = self.dispatch_request()\n",
      "  File \"d:\\U\\Python\\lib\\site-packages\\flask\\app.py\", line 865, in dispatch_request\n",
      "    return self.ensure_sync(self.view_functions[rule.endpoint])(**view_args)  # type: ignore[no-any-return]\n",
      "  File \"d:\\U\\Python\\lib\\site-packages\\dash\\dash.py\", line 1273, in dispatch\n",
      "    ctx.run(\n",
      "  File \"d:\\U\\Python\\lib\\site-packages\\dash\\_callback.py\", line 440, in add_context\n",
      "    output_value = func(*func_args, **func_kwargs)  # %% callback invoked %%\n",
      "  File \"C:\\Users\\vliza\\AppData\\Local\\Temp\\ipykernel_14304\\1331575113.py\", line 66, in render_content\n",
      "    dcc.Input(id='input-temp', type='number', value=5000, step=100, min=0, max=40000, className='form-control mb-2'),\n",
      "NameError: name 'dcc' is not defined. Did you mean: 'dbc'?\n",
      "Exception on /_dash-update-component [POST]\n",
      "Traceback (most recent call last):\n",
      "  File \"d:\\U\\Python\\lib\\site-packages\\flask\\app.py\", line 1473, in wsgi_app\n",
      "    response = self.full_dispatch_request()\n",
      "  File \"d:\\U\\Python\\lib\\site-packages\\flask\\app.py\", line 882, in full_dispatch_request\n",
      "    rv = self.handle_user_exception(e)\n",
      "  File \"d:\\U\\Python\\lib\\site-packages\\flask\\app.py\", line 880, in full_dispatch_request\n",
      "    rv = self.dispatch_request()\n",
      "  File \"d:\\U\\Python\\lib\\site-packages\\flask\\app.py\", line 865, in dispatch_request\n",
      "    return self.ensure_sync(self.view_functions[rule.endpoint])(**view_args)  # type: ignore[no-any-return]\n",
      "  File \"d:\\U\\Python\\lib\\site-packages\\dash\\dash.py\", line 1273, in dispatch\n",
      "    ctx.run(\n",
      "  File \"d:\\U\\Python\\lib\\site-packages\\dash\\_callback.py\", line 440, in add_context\n",
      "    output_value = func(*func_args, **func_kwargs)  # %% callback invoked %%\n",
      "  File \"C:\\Users\\vliza\\AppData\\Local\\Temp\\ipykernel_14304\\1331575113.py\", line 66, in render_content\n",
      "    dcc.Input(id='input-temp', type='number', value=5000, step=100, min=0, max=40000, className='form-control mb-2'),\n",
      "NameError: name 'dcc' is not defined. Did you mean: 'dbc'?\n"
     ]
    },
    {
     "name": "stderr",
     "output_type": "stream",
     "text": [
      "127.0.0.1 - - [03/Jul/2024 15:45:56] \"POST /_dash-update-component HTTP/1.1\" 500 -\n"
     ]
    }
   ],
   "source": [
    "import dash\n",
    "from dash import Dash, html, Input, Output, ctx, callback\n",
    "import dash_bootstrap_components as dbc\n",
    "from dash.dependencies import Input, Output, State\n",
    "import pandas as pd\n",
    "from sklearn.preprocessing import StandardScaler\n",
    "from sklearn.svm import SVC\n",
    "from sklearn.model_selection import train_test_split\n",
    "from sklearn.metrics import accuracy_score\n",
    "import plotly.express as px\n",
    "import plotly.graph_objects as go\n",
    "from flask_ngrok import run_with_ngrok\n",
    "\n",
    "# Cargar los datos\n",
    "file_path = '6 class csv.csv'\n",
    "data = pd.read_csv(file_path)\n",
    "\n",
    "# Preparar los datos para el entrenamiento\n",
    "X = data[['Temperature (K)', 'Luminosity(L/Lo)', 'Radius(R/Ro)', 'Absolute magnitude(Mv)']]\n",
    "y = data['Star type']\n",
    "\n",
    "# Dividir los datos en conjunto de entrenamiento y prueba\n",
    "X_train, X_test, y_train, y_test = train_test_split(X, y, test_size=0.2, random_state=42)\n",
    "\n",
    "# Estandarizar las características\n",
    "scaler = StandardScaler()\n",
    "X_train_scaled = scaler.fit_transform(X_train)\n",
    "X_test_scaled = scaler.transform(X_test)\n",
    "\n",
    "# Entrenar el modelo SVM\n",
    "svm_model = SVC(kernel='linear', random_state=42)\n",
    "svm_model.fit(X_train_scaled, y_train)\n",
    "\n",
    "# Evaluar el modelo\n",
    "y_pred_train = svm_model.predict(X_train_scaled)\n",
    "y_pred_test = svm_model.predict(X_test_scaled)\n",
    "train_accuracy = accuracy_score(y_train, y_pred_train)\n",
    "test_accuracy = accuracy_score(y_test, y_pred_test)\n",
    "\n",
    "# Crear la aplicación Dash\n",
    "app = dash.Dash(__name__, external_stylesheets=[dbc.themes.BOOTSTRAP])\n",
    "run_with_ngrok(app)  # Inicia ngrok cuando se ejecute el servidor\n",
    "\n",
    "app.layout = dbc.Container([\n",
    "    dbc.Tabs([\n",
    "        dbc.Tab(label='Clasificación de Estrellas', tab_id='tab-1'),\n",
    "        dbc.Tab(label='Información del Modelo', tab_id='tab-2')\n",
    "    ], id='tabs', active_tab='tab-1'),\n",
    "    html.Div(id='content')\n",
    "])\n",
    "\n",
    "@app.callback(\n",
    "    Output('content', 'children'),\n",
    "    Input('tabs', 'active_tab')\n",
    ")\n",
    "def render_content(tab):\n",
    "    if tab == 'tab-1':\n",
    "        return dbc.Container([\n",
    "            dbc.Row([\n",
    "                dbc.Col([\n",
    "                    html.H1(\"Clasificación de Estrellas\", className='text-center my-4'),\n",
    "                    dbc.Card(\n",
    "                        dbc.CardBody([\n",
    "                            html.Label(\"Temperatura (K):\"),\n",
    "                            dcc.Input(id='input-temp', type='number', value=5000, step=100, min=0, max=40000, className='form-control mb-2'),\n",
    "                            html.Br(),\n",
    "                            html.Label(\"Luminosidad (L/Lo):\"),\n",
    "                            dcc.Input(id='input-lum', type='number', value=1, step=0.1, className='form-control mb-2'),\n",
    "                            html.Label(\"Radio (R/Ro):\"),\n",
    "                            dcc.Input(id='input-radius', type='number', value=1, step=0.1, className='form-control mb-2'),\n",
    "                            html.Label(\"Magnitud Absoluta (Mv):\"),\n",
    "                            dcc.Input(id='input-mag', type='number', value=5, step=0.1, className='form-control mb-2'),\n",
    "                            html.Br(),\n",
    "                            dbc.Button(\"Clasificar\", id='classify-button', color='primary', className='mt-2'),\n",
    "                            html.Hr(),\n",
    "                            #Agregamos botones\n",
    "                            html.Label(\"Escoge el tipo de estrella que deseas ver:\"),\n",
    "                            html.Button('0', id='btn-nclicks-0', n_clicks=0),\n",
    "                            html.Button('1', id='btn-nclicks-1', n_clicks=0),\n",
    "                            html.Button('2', id='btn-nclicks-2', n_clicks=0),\n",
    "                            html.Button('3', id='btn-nclicks-3', n_clicks=0),\n",
    "                            html.Button('4', id='btn-nclicks-4', n_clicks=0),\n",
    "                            html.Button('5', id='btn-nclicks-5', n_clicks=0),\n",
    "                            html.Div(id='container-button-timestamp'),\n",
    "                            html.Div(id='output-class', className='text-center mt-4')\n",
    "                        ]),\n",
    "                    )\n",
    "                ], width=4),\n",
    "                dbc.Col([\n",
    "                    html.H3(\"Gráfico de Dispersión de Estrellas\", className='text-center my-4'),\n",
    "                    dcc.Graph(id='star-scatter', figure={})\n",
    "                ], width=8),\n",
    "                \n",
    "            ], className='mt-4')\n",
    "        ])\n",
    "    elif tab == 'tab-2':\n",
    "        return dbc.Container([\n",
    "            dbc.Row([\n",
    "                dbc.Col([\n",
    "                    html.H5(\"Modelo Utilizado: Support Vector Machine (SVM)\"),\n",
    "                    html.P(\"El modelo SVM con kernel lineal se utiliza para clasificación.\"),\n",
    "                    html.P(\"El modelo fue elegido por su efectividad en problemas de clasificación con datos de alta dimensionalidad.\"),\n",
    "                    html.P(f\"Precisión del conjunto de entrenamiento: {train_accuracy:.2%}\"),\n",
    "                    html.P(f\"Precisión del conjunto de prueba: {test_accuracy:.2%}\")\n",
    "                ], width=12)\n",
    "            ], className='mt-4'),\n",
    "            dbc.Row([\n",
    "                dbc.Col([\n",
    "                    dcc.Graph(\n",
    "                        id='accuracy-graph',\n",
    "                        figure=go.Figure(\n",
    "                            data=[go.Bar(x=['Train Accuracy', 'Test Accuracy'], y=[train_accuracy, test_accuracy], text=[f'{train_accuracy:.2%}', f'{test_accuracy:.2%}'], textposition='auto')],\n",
    "                            layout_title_text='Precisión del Modelo'\n",
    "                        )\n",
    "                    )\n",
    "                ], width=12)\n",
    "            ], className='mt-4')\n",
    "        ])\n",
    "\n",
    "\n",
    "\n",
    "\n",
    "@app.callback(\n",
    "    Output('output-class', 'children'),\n",
    "    Output('star-scatter', 'figure'),\n",
    "    Input('classify-button', 'n_clicks'),\n",
    "    State('input-temp', 'value'),\n",
    "    State('input-lum', 'value'),\n",
    "    State('input-radius', 'value'),\n",
    "    State('input-mag', 'value')\n",
    ")\n",
    "def classify_star(n_clicks, temp, lum, radius, mag):\n",
    "    if n_clicks is None:\n",
    "        return \"\", {}\n",
    "\n",
    "    # Preprocesar los valores de entrada\n",
    "    input_data = pd.DataFrame([[temp, lum, radius, mag]], columns=['Temperature (K)', 'Luminosity(L/Lo)', 'Radius(R/Ro)', 'Absolute magnitude(Mv)'])\n",
    "    input_scaled = scaler.transform(input_data)\n",
    "\n",
    "    # Realizar la predicción\n",
    "    star_type = svm_model.predict(input_scaled)[0]\n",
    "\n",
    "    # Crear la anotación para la estrella consultada\n",
    "    annotation = {\n",
    "        'x': temp,\n",
    "        'y': lum,\n",
    "        'xref': 'x',\n",
    "        'yref': 'y',\n",
    "        'text': f\"Estrella Consultada<br>Tipo: {star_type}\",\n",
    "        'showarrow': True,\n",
    "        'arrowhead': 2,\n",
    "        'ax': 0,\n",
    "        'ay': -40\n",
    "    }\n",
    "\n",
    "    # Actualizar el gráfico de dispersión\n",
    "    fig = px.scatter(data, x='Temperature (K)', y='Luminosity(L/Lo)', color='Star type',\n",
    "                     title='Clasificación de Estrellas en la Secuencia Principal',\n",
    "                     labels={'Temperature (K)': 'Temperatura (K)', 'Luminosity(L/Lo)': 'Luminosidad (L/Lo)'},\n",
    "                     hover_data=['Radius(R/Ro)', 'Absolute magnitude(Mv)', 'Star color', 'Spectral Class'])\n",
    "    \n",
    "\n",
    "    fig.update_layout(\n",
    "        transition_duration=500,\n",
    "        annotations=[annotation],\n",
    "        xaxis_autorange='reversed',  # Invertir el eje x\n",
    "        yaxis_type='log'  # Escala logarítmica para el eje y\n",
    "    )\n",
    "    return dbc.Alert(f\"Tipo de estrella predicho: {star_type}\", color='info'), fig\n",
    "\n",
    "\n",
    "#callback a los botones\n",
    "@app.callback(\n",
    "    Output('container-button-timestamp', 'children'),\n",
    "    Output('star-scatter', 'figure'),\n",
    "    Input('btn-nclicks-0', 'n_clicks'),\n",
    "    Input('btn-nclicks-1', 'n_clicks'),\n",
    "    Input('btn-nclicks-2', 'n_clicks'),\n",
    "    Input('btn-nclicks-3', 'n_clicks'),\n",
    "    Input('btn-nclicks-4', 'n_clicks'),\n",
    "    Input('btn-nclicks-5', 'n_clicks')\n",
    ")\n",
    "\n",
    "\n",
    "def displayClick(btn0, btn1, btn2, btn3, btn4, btn5):\n",
    "\n",
    "    if \"btn-nclicks-0\" == ctx.triggered_id:\n",
    "        estrella = 0\n",
    "    elif \"btn-nclicks-1\" == ctx.triggered_id:\n",
    "        estrella = 1\n",
    "    elif \"btn-nclicks-2\" == ctx.triggered_id:\n",
    "        estrella = 2\n",
    "    elif \"btn-nclicks-3\" == ctx.triggered_id:\n",
    "        estrella = 3\n",
    "    elif \"btn-nclicks-4\" == ctx.triggered_id:\n",
    "        estrella = 4\n",
    "    elif \"btn-nclicks-5\" == ctx.triggered_id:\n",
    "        estrella = 5\n",
    "# tenemos la grafica que solo selecciona un tipo de estrella\n",
    "\n",
    "    fig = px.scatter(data[data['Star type'] == estrella], x='Temperature (K)', y='Luminosity(L/Lo)', color='Star type',\n",
    "                     title='Clasificación de Estrellas en la Secuencia Principal',\n",
    "                     labels={'Temperature (K)': 'Temperatura (K)', 'Luminosity(L/Lo)': 'Luminosidad (L/Lo)'},\n",
    "                     hover_data=['Radius(R/Ro)', 'Absolute magnitude(Mv)', 'Star color', 'Spectral Class'])\n",
    "    \n",
    "\n",
    "    fig.update_layout(\n",
    "        transition_duration=500,\n",
    "        annotations=[annotation],\n",
    "        xaxis_autorange='reversed',  # Invertir el eje x\n",
    "        yaxis_type='log'  # Escala logarítmica para el eje y\n",
    "    )\n",
    "\n",
    "    return fig\n",
    "\n",
    "    \n",
    "\n",
    "\n",
    "\n",
    "\n",
    "\n",
    "# Índice de tipos de estrellas\n",
    "index_content = dbc.Container([\n",
    "    html.H5(\"Índice de Tipos de Estrellas\"),\n",
    "    html.P(\"Brown Dwarf -> Star Type = 0\"),\n",
    "    html.P(\"Red Dwarf -> Star Type = 1\"),\n",
    "    html.P(\"White Dwarf -> Star Type = 2\"),\n",
    "    html.P(\"Main Sequence -> Star Type = 3\"),\n",
    "    html.P(\"Supergiant -> Star Type = 4\"),\n",
    "    html.P(\"Hypergiant -> Star Type = 5\")\n",
    "], className='mt-4')\n",
    "\n",
    "# Agregar el índice al layout de la aplicación\n",
    "app.layout.children.append(index_content)\n",
    "\n",
    "# Ejecutar la aplicación\n",
    "app.run_server()\n"
   ]
  },
  {
   "cell_type": "code",
   "execution_count": null,
   "metadata": {},
   "outputs": [
    {
     "data": {
      "application/vnd.plotly.v1+json": {
       "config": {
        "plotlyServerURL": "https://plot.ly"
       },
       "data": [
        {
         "customdata": [
          [
           1520,
           -9.4,
           "Red",
           "M"
          ],
          [
           1260,
           -7.63,
           "Red",
           "M"
          ],
          [
           1183,
           -9.2,
           "Red",
           "M"
          ],
          [
           1648,
           -8.05,
           "Orange",
           "M"
          ],
          [
           1324,
           -7.79,
           "Red",
           "M"
          ],
          [
           1349,
           -11.75,
           "Red",
           "M"
          ],
          [
           1673,
           -11.92,
           "Red",
           "M"
          ],
          [
           1284,
           -11.28,
           "Red",
           "M"
          ],
          [
           955,
           -11.24,
           "Red",
           "M"
          ],
          [
           1546,
           -11.36,
           "Red",
           "M"
          ],
          [
           1289,
           -10.7,
           "Red",
           "M"
          ],
          [
           1124,
           -10.81,
           "Red",
           "M"
          ],
          [
           1635,
           -11.33,
           "Red",
           "M"
          ],
          [
           1486,
           -10.92,
           "Red",
           "M"
          ],
          [
           1522,
           -10.86,
           "Red",
           "M"
          ],
          [
           1324,
           -11.03,
           "Red",
           "M"
          ],
          [
           1534,
           -11.39,
           "Red",
           "K"
          ],
          [
           876,
           -10.25,
           "Red",
           "M"
          ],
          [
           1467,
           -10.07,
           "Red",
           "G"
          ],
          [
           1324,
           -10.7,
           "Red",
           "M"
          ],
          [
           1480,
           -7.58,
           "Red",
           "M"
          ],
          [
           1420,
           -8.18,
           "Red",
           "M"
          ],
          [
           1315,
           -9.2,
           "Orange",
           "K"
          ],
          [
           1679,
           -9.1,
           "Blue",
           "B"
          ],
          [
           1190,
           -7.89,
           "Red",
           "M"
          ],
          [
           1553,
           -7.71,
           "Red",
           "M"
          ],
          [
           1045,
           -8.3,
           "Blue",
           "O"
          ],
          [
           1779,
           -9.9,
           "Blue-white",
           "B"
          ],
          [
           708.9,
           -7.84,
           "Blue-white",
           "B"
          ],
          [
           1134.5,
           -8.24,
           "Blue-white",
           "B"
          ],
          [
           1494,
           -8.84,
           "Blue-white",
           "B"
          ],
          [
           1356,
           -9.29,
           "Blue",
           "O"
          ],
          [
           1948.5,
           -10.84,
           "Blue",
           "O"
          ],
          [
           1252,
           -7.59,
           "Blue-white",
           "B"
          ],
          [
           1130,
           -7.67,
           "Blue-white",
           "B"
          ],
          [
           1356,
           -9.93,
           "Blue",
           "O"
          ],
          [
           1194,
           -10.63,
           "Blue",
           "O"
          ],
          [
           1423,
           -10.73,
           "White",
           "A"
          ],
          [
           1112,
           -11.23,
           "White",
           "A"
          ],
          [
           1783,
           -7.8,
           "Blue",
           "O"
          ]
         ],
         "hovertemplate": "Temperatura (K)=%{x}<br>Luminosidad (L/Lo)=%{y}<br>Radius(R/Ro)=%{customdata[0]}<br>Absolute magnitude(Mv)=%{customdata[1]}<br>Star color=%{customdata[2]}<br>Spectral Class=%{customdata[3]}<br>Star type=%{marker.color}<extra></extra>",
         "legendgroup": "",
         "marker": {
          "color": [
           5,
           5,
           5,
           5,
           5,
           5,
           5,
           5,
           5,
           5,
           5,
           5,
           5,
           5,
           5,
           5,
           5,
           5,
           5,
           5,
           5,
           5,
           5,
           5,
           5,
           5,
           5,
           5,
           5,
           5,
           5,
           5,
           5,
           5,
           5,
           5,
           5,
           5,
           5,
           5
          ],
          "coloraxis": "coloraxis",
          "symbol": "circle"
         },
         "mode": "markers",
         "name": "",
         "orientation": "v",
         "showlegend": false,
         "type": "scatter",
         "x": [
          3490,
          3750,
          3834,
          3749,
          3650,
          3450,
          3660,
          3450,
          3752,
          3535,
          3459,
          3605,
          3615,
          3399,
          3610,
          3553,
          4015,
          3625,
          6850,
          3780,
          3570,
          3500,
          4287,
          26000,
          3600,
          3614,
          18000,
          11000,
          12100,
          24490,
          24145,
          38234,
          32489,
          27739,
          21904,
          38940,
          30839,
          8829,
          9235,
          37882
         ],
         "xaxis": "x",
         "y": [
          270000,
          283000,
          272000,
          550000,
          310000,
          263000,
          363000,
          174000,
          209000,
          195000,
          100000,
          126000,
          200000,
          117000,
          132000,
          145000,
          282000,
          74000,
          229000,
          200000,
          320000,
          138000,
          630000,
          316000,
          240000,
          145000,
          200000,
          170000,
          120000,
          248490,
          382993,
          272830,
          648430,
          849420,
          748490,
          374830,
          834042,
          537493,
          404940,
          294903
         ],
         "yaxis": "y"
        }
       ],
       "layout": {
        "coloraxis": {
         "colorbar": {
          "title": {
           "text": "Star type"
          }
         },
         "colorscale": [
          [
           0,
           "#0d0887"
          ],
          [
           0.1111111111111111,
           "#46039f"
          ],
          [
           0.2222222222222222,
           "#7201a8"
          ],
          [
           0.3333333333333333,
           "#9c179e"
          ],
          [
           0.4444444444444444,
           "#bd3786"
          ],
          [
           0.5555555555555556,
           "#d8576b"
          ],
          [
           0.6666666666666666,
           "#ed7953"
          ],
          [
           0.7777777777777778,
           "#fb9f3a"
          ],
          [
           0.8888888888888888,
           "#fdca26"
          ],
          [
           1,
           "#f0f921"
          ]
         ]
        },
        "legend": {
         "tracegroupgap": 0
        },
        "template": {
         "data": {
          "bar": [
           {
            "error_x": {
             "color": "#2a3f5f"
            },
            "error_y": {
             "color": "#2a3f5f"
            },
            "marker": {
             "line": {
              "color": "#E5ECF6",
              "width": 0.5
             },
             "pattern": {
              "fillmode": "overlay",
              "size": 10,
              "solidity": 0.2
             }
            },
            "type": "bar"
           }
          ],
          "barpolar": [
           {
            "marker": {
             "line": {
              "color": "#E5ECF6",
              "width": 0.5
             },
             "pattern": {
              "fillmode": "overlay",
              "size": 10,
              "solidity": 0.2
             }
            },
            "type": "barpolar"
           }
          ],
          "carpet": [
           {
            "aaxis": {
             "endlinecolor": "#2a3f5f",
             "gridcolor": "white",
             "linecolor": "white",
             "minorgridcolor": "white",
             "startlinecolor": "#2a3f5f"
            },
            "baxis": {
             "endlinecolor": "#2a3f5f",
             "gridcolor": "white",
             "linecolor": "white",
             "minorgridcolor": "white",
             "startlinecolor": "#2a3f5f"
            },
            "type": "carpet"
           }
          ],
          "choropleth": [
           {
            "colorbar": {
             "outlinewidth": 0,
             "ticks": ""
            },
            "type": "choropleth"
           }
          ],
          "contour": [
           {
            "colorbar": {
             "outlinewidth": 0,
             "ticks": ""
            },
            "colorscale": [
             [
              0,
              "#0d0887"
             ],
             [
              0.1111111111111111,
              "#46039f"
             ],
             [
              0.2222222222222222,
              "#7201a8"
             ],
             [
              0.3333333333333333,
              "#9c179e"
             ],
             [
              0.4444444444444444,
              "#bd3786"
             ],
             [
              0.5555555555555556,
              "#d8576b"
             ],
             [
              0.6666666666666666,
              "#ed7953"
             ],
             [
              0.7777777777777778,
              "#fb9f3a"
             ],
             [
              0.8888888888888888,
              "#fdca26"
             ],
             [
              1,
              "#f0f921"
             ]
            ],
            "type": "contour"
           }
          ],
          "contourcarpet": [
           {
            "colorbar": {
             "outlinewidth": 0,
             "ticks": ""
            },
            "type": "contourcarpet"
           }
          ],
          "heatmap": [
           {
            "colorbar": {
             "outlinewidth": 0,
             "ticks": ""
            },
            "colorscale": [
             [
              0,
              "#0d0887"
             ],
             [
              0.1111111111111111,
              "#46039f"
             ],
             [
              0.2222222222222222,
              "#7201a8"
             ],
             [
              0.3333333333333333,
              "#9c179e"
             ],
             [
              0.4444444444444444,
              "#bd3786"
             ],
             [
              0.5555555555555556,
              "#d8576b"
             ],
             [
              0.6666666666666666,
              "#ed7953"
             ],
             [
              0.7777777777777778,
              "#fb9f3a"
             ],
             [
              0.8888888888888888,
              "#fdca26"
             ],
             [
              1,
              "#f0f921"
             ]
            ],
            "type": "heatmap"
           }
          ],
          "heatmapgl": [
           {
            "colorbar": {
             "outlinewidth": 0,
             "ticks": ""
            },
            "colorscale": [
             [
              0,
              "#0d0887"
             ],
             [
              0.1111111111111111,
              "#46039f"
             ],
             [
              0.2222222222222222,
              "#7201a8"
             ],
             [
              0.3333333333333333,
              "#9c179e"
             ],
             [
              0.4444444444444444,
              "#bd3786"
             ],
             [
              0.5555555555555556,
              "#d8576b"
             ],
             [
              0.6666666666666666,
              "#ed7953"
             ],
             [
              0.7777777777777778,
              "#fb9f3a"
             ],
             [
              0.8888888888888888,
              "#fdca26"
             ],
             [
              1,
              "#f0f921"
             ]
            ],
            "type": "heatmapgl"
           }
          ],
          "histogram": [
           {
            "marker": {
             "pattern": {
              "fillmode": "overlay",
              "size": 10,
              "solidity": 0.2
             }
            },
            "type": "histogram"
           }
          ],
          "histogram2d": [
           {
            "colorbar": {
             "outlinewidth": 0,
             "ticks": ""
            },
            "colorscale": [
             [
              0,
              "#0d0887"
             ],
             [
              0.1111111111111111,
              "#46039f"
             ],
             [
              0.2222222222222222,
              "#7201a8"
             ],
             [
              0.3333333333333333,
              "#9c179e"
             ],
             [
              0.4444444444444444,
              "#bd3786"
             ],
             [
              0.5555555555555556,
              "#d8576b"
             ],
             [
              0.6666666666666666,
              "#ed7953"
             ],
             [
              0.7777777777777778,
              "#fb9f3a"
             ],
             [
              0.8888888888888888,
              "#fdca26"
             ],
             [
              1,
              "#f0f921"
             ]
            ],
            "type": "histogram2d"
           }
          ],
          "histogram2dcontour": [
           {
            "colorbar": {
             "outlinewidth": 0,
             "ticks": ""
            },
            "colorscale": [
             [
              0,
              "#0d0887"
             ],
             [
              0.1111111111111111,
              "#46039f"
             ],
             [
              0.2222222222222222,
              "#7201a8"
             ],
             [
              0.3333333333333333,
              "#9c179e"
             ],
             [
              0.4444444444444444,
              "#bd3786"
             ],
             [
              0.5555555555555556,
              "#d8576b"
             ],
             [
              0.6666666666666666,
              "#ed7953"
             ],
             [
              0.7777777777777778,
              "#fb9f3a"
             ],
             [
              0.8888888888888888,
              "#fdca26"
             ],
             [
              1,
              "#f0f921"
             ]
            ],
            "type": "histogram2dcontour"
           }
          ],
          "mesh3d": [
           {
            "colorbar": {
             "outlinewidth": 0,
             "ticks": ""
            },
            "type": "mesh3d"
           }
          ],
          "parcoords": [
           {
            "line": {
             "colorbar": {
              "outlinewidth": 0,
              "ticks": ""
             }
            },
            "type": "parcoords"
           }
          ],
          "pie": [
           {
            "automargin": true,
            "type": "pie"
           }
          ],
          "scatter": [
           {
            "fillpattern": {
             "fillmode": "overlay",
             "size": 10,
             "solidity": 0.2
            },
            "type": "scatter"
           }
          ],
          "scatter3d": [
           {
            "line": {
             "colorbar": {
              "outlinewidth": 0,
              "ticks": ""
             }
            },
            "marker": {
             "colorbar": {
              "outlinewidth": 0,
              "ticks": ""
             }
            },
            "type": "scatter3d"
           }
          ],
          "scattercarpet": [
           {
            "marker": {
             "colorbar": {
              "outlinewidth": 0,
              "ticks": ""
             }
            },
            "type": "scattercarpet"
           }
          ],
          "scattergeo": [
           {
            "marker": {
             "colorbar": {
              "outlinewidth": 0,
              "ticks": ""
             }
            },
            "type": "scattergeo"
           }
          ],
          "scattergl": [
           {
            "marker": {
             "colorbar": {
              "outlinewidth": 0,
              "ticks": ""
             }
            },
            "type": "scattergl"
           }
          ],
          "scattermapbox": [
           {
            "marker": {
             "colorbar": {
              "outlinewidth": 0,
              "ticks": ""
             }
            },
            "type": "scattermapbox"
           }
          ],
          "scatterpolar": [
           {
            "marker": {
             "colorbar": {
              "outlinewidth": 0,
              "ticks": ""
             }
            },
            "type": "scatterpolar"
           }
          ],
          "scatterpolargl": [
           {
            "marker": {
             "colorbar": {
              "outlinewidth": 0,
              "ticks": ""
             }
            },
            "type": "scatterpolargl"
           }
          ],
          "scatterternary": [
           {
            "marker": {
             "colorbar": {
              "outlinewidth": 0,
              "ticks": ""
             }
            },
            "type": "scatterternary"
           }
          ],
          "surface": [
           {
            "colorbar": {
             "outlinewidth": 0,
             "ticks": ""
            },
            "colorscale": [
             [
              0,
              "#0d0887"
             ],
             [
              0.1111111111111111,
              "#46039f"
             ],
             [
              0.2222222222222222,
              "#7201a8"
             ],
             [
              0.3333333333333333,
              "#9c179e"
             ],
             [
              0.4444444444444444,
              "#bd3786"
             ],
             [
              0.5555555555555556,
              "#d8576b"
             ],
             [
              0.6666666666666666,
              "#ed7953"
             ],
             [
              0.7777777777777778,
              "#fb9f3a"
             ],
             [
              0.8888888888888888,
              "#fdca26"
             ],
             [
              1,
              "#f0f921"
             ]
            ],
            "type": "surface"
           }
          ],
          "table": [
           {
            "cells": {
             "fill": {
              "color": "#EBF0F8"
             },
             "line": {
              "color": "white"
             }
            },
            "header": {
             "fill": {
              "color": "#C8D4E3"
             },
             "line": {
              "color": "white"
             }
            },
            "type": "table"
           }
          ]
         },
         "layout": {
          "annotationdefaults": {
           "arrowcolor": "#2a3f5f",
           "arrowhead": 0,
           "arrowwidth": 1
          },
          "autotypenumbers": "strict",
          "coloraxis": {
           "colorbar": {
            "outlinewidth": 0,
            "ticks": ""
           }
          },
          "colorscale": {
           "diverging": [
            [
             0,
             "#8e0152"
            ],
            [
             0.1,
             "#c51b7d"
            ],
            [
             0.2,
             "#de77ae"
            ],
            [
             0.3,
             "#f1b6da"
            ],
            [
             0.4,
             "#fde0ef"
            ],
            [
             0.5,
             "#f7f7f7"
            ],
            [
             0.6,
             "#e6f5d0"
            ],
            [
             0.7,
             "#b8e186"
            ],
            [
             0.8,
             "#7fbc41"
            ],
            [
             0.9,
             "#4d9221"
            ],
            [
             1,
             "#276419"
            ]
           ],
           "sequential": [
            [
             0,
             "#0d0887"
            ],
            [
             0.1111111111111111,
             "#46039f"
            ],
            [
             0.2222222222222222,
             "#7201a8"
            ],
            [
             0.3333333333333333,
             "#9c179e"
            ],
            [
             0.4444444444444444,
             "#bd3786"
            ],
            [
             0.5555555555555556,
             "#d8576b"
            ],
            [
             0.6666666666666666,
             "#ed7953"
            ],
            [
             0.7777777777777778,
             "#fb9f3a"
            ],
            [
             0.8888888888888888,
             "#fdca26"
            ],
            [
             1,
             "#f0f921"
            ]
           ],
           "sequentialminus": [
            [
             0,
             "#0d0887"
            ],
            [
             0.1111111111111111,
             "#46039f"
            ],
            [
             0.2222222222222222,
             "#7201a8"
            ],
            [
             0.3333333333333333,
             "#9c179e"
            ],
            [
             0.4444444444444444,
             "#bd3786"
            ],
            [
             0.5555555555555556,
             "#d8576b"
            ],
            [
             0.6666666666666666,
             "#ed7953"
            ],
            [
             0.7777777777777778,
             "#fb9f3a"
            ],
            [
             0.8888888888888888,
             "#fdca26"
            ],
            [
             1,
             "#f0f921"
            ]
           ]
          },
          "colorway": [
           "#636efa",
           "#EF553B",
           "#00cc96",
           "#ab63fa",
           "#FFA15A",
           "#19d3f3",
           "#FF6692",
           "#B6E880",
           "#FF97FF",
           "#FECB52"
          ],
          "font": {
           "color": "#2a3f5f"
          },
          "geo": {
           "bgcolor": "white",
           "lakecolor": "white",
           "landcolor": "#E5ECF6",
           "showlakes": true,
           "showland": true,
           "subunitcolor": "white"
          },
          "hoverlabel": {
           "align": "left"
          },
          "hovermode": "closest",
          "mapbox": {
           "style": "light"
          },
          "paper_bgcolor": "white",
          "plot_bgcolor": "#E5ECF6",
          "polar": {
           "angularaxis": {
            "gridcolor": "white",
            "linecolor": "white",
            "ticks": ""
           },
           "bgcolor": "#E5ECF6",
           "radialaxis": {
            "gridcolor": "white",
            "linecolor": "white",
            "ticks": ""
           }
          },
          "scene": {
           "xaxis": {
            "backgroundcolor": "#E5ECF6",
            "gridcolor": "white",
            "gridwidth": 2,
            "linecolor": "white",
            "showbackground": true,
            "ticks": "",
            "zerolinecolor": "white"
           },
           "yaxis": {
            "backgroundcolor": "#E5ECF6",
            "gridcolor": "white",
            "gridwidth": 2,
            "linecolor": "white",
            "showbackground": true,
            "ticks": "",
            "zerolinecolor": "white"
           },
           "zaxis": {
            "backgroundcolor": "#E5ECF6",
            "gridcolor": "white",
            "gridwidth": 2,
            "linecolor": "white",
            "showbackground": true,
            "ticks": "",
            "zerolinecolor": "white"
           }
          },
          "shapedefaults": {
           "line": {
            "color": "#2a3f5f"
           }
          },
          "ternary": {
           "aaxis": {
            "gridcolor": "white",
            "linecolor": "white",
            "ticks": ""
           },
           "baxis": {
            "gridcolor": "white",
            "linecolor": "white",
            "ticks": ""
           },
           "bgcolor": "#E5ECF6",
           "caxis": {
            "gridcolor": "white",
            "linecolor": "white",
            "ticks": ""
           }
          },
          "title": {
           "x": 0.05
          },
          "xaxis": {
           "automargin": true,
           "gridcolor": "white",
           "linecolor": "white",
           "ticks": "",
           "title": {
            "standoff": 15
           },
           "zerolinecolor": "white",
           "zerolinewidth": 2
          },
          "yaxis": {
           "automargin": true,
           "gridcolor": "white",
           "linecolor": "white",
           "ticks": "",
           "title": {
            "standoff": 15
           },
           "zerolinecolor": "white",
           "zerolinewidth": 2
          }
         }
        },
        "title": {
         "text": "Clasificación de Estrellas en la Secuencia Principal"
        },
        "xaxis": {
         "anchor": "y",
         "domain": [
          0,
          1
         ],
         "title": {
          "text": "Temperatura (K)"
         }
        },
        "yaxis": {
         "anchor": "x",
         "domain": [
          0,
          1
         ],
         "title": {
          "text": "Luminosidad (L/Lo)"
         }
        }
       }
      }
     },
     "metadata": {},
     "output_type": "display_data"
    }
   ],
   "source": [
    "file_path = '6 class csv.csv'\n",
    "data = pd.read_csv(file_path)\n",
    "px.scatter(data[data['Star type'] == 5], x='Temperature (K)', y='Luminosity(L/Lo)', color='Star type',\n",
    "                     title='Clasificación de Estrellas en la Secuencia Principal',\n",
    "                     labels={'Temperature (K)': 'Temperatura (K)', 'Luminosity(L/Lo)': 'Luminosidad (L/Lo)'},\n",
    "                     hover_data=['Radius(R/Ro)', 'Absolute magnitude(Mv)', 'Star color', 'Spectral Class'])"
   ]
  },
  {
   "cell_type": "code",
   "execution_count": null,
   "metadata": {},
   "outputs": [
    {
     "data": {
      "text/plain": [
       "(     Temperature (K)  Luminosity(L/Lo)  Radius(R/Ro)  Absolute magnitude(Mv)  \\\n",
       " 10              3600           0.00290        0.5100                  10.690   \n",
       " 11              3129           0.01220        0.3761                  11.790   \n",
       " 12              3134           0.00040        0.1960                  13.210   \n",
       " 13              3628           0.00550        0.3930                  10.480   \n",
       " 14              2650           0.00060        0.1400                  11.782   \n",
       " 15              3340           0.00380        0.2400                  13.070   \n",
       " 16              2799           0.00180        0.1600                  14.790   \n",
       " 17              3692           0.00367        0.4700                  10.800   \n",
       " 18              3192           0.00362        0.1967                  13.530   \n",
       " 19              3441           0.03900        0.3510                  11.180   \n",
       " 70              3345           0.02100        0.2730                  12.300   \n",
       " 71              3607           0.02200        0.3800                  10.120   \n",
       " 72              3304           0.00850        0.1800                  13.200   \n",
       " 73              3150           0.00880        0.3500                  11.940   \n",
       " 74              3550           0.00400        0.2910                  10.890   \n",
       " 75              3180           0.00100        0.3500                  11.760   \n",
       " 76              2890           0.00340        0.2400                  13.460   \n",
       " 77              3342           0.00150        0.3070                  11.870   \n",
       " 78              2621           0.00060        0.0980                  12.810   \n",
       " 79              3158           0.00135        0.1610                  13.980   \n",
       " 130             3095           0.00019        0.4920                  10.870   \n",
       " 131             3607           0.00023        0.3800                  10.340   \n",
       " 132             3100           0.00800        0.3100                  11.170   \n",
       " 133             2989           0.00870        0.3400                  13.120   \n",
       " 134             3542           0.00090        0.6200                  14.230   \n",
       " 135             3243           0.00230        0.7300                  14.750   \n",
       " 136             3091           0.00810        0.2400                  11.430   \n",
       " 137             3598           0.00110        0.5600                  14.260   \n",
       " 138             3324           0.00340        0.3400                  12.230   \n",
       " 139             3541           0.00130        0.2560                  14.330   \n",
       " 190             3462           0.00530        0.1480                  11.470   \n",
       " 191             3257           0.00240        0.4600                  10.730   \n",
       " 192             2994           0.00720        0.2800                  13.450   \n",
       " 193             3212           0.00160        0.3780                  12.854   \n",
       " 194             3523           0.00540        0.3190                  12.430   \n",
       " 195             3598           0.00270        0.6700                  13.667   \n",
       " 196             3142           0.00132        0.2580                  14.120   \n",
       " 197             3496           0.00125        0.3360                  14.940   \n",
       " 198             3324           0.00650        0.4710                  12.780   \n",
       " 199             3463           0.00270        0.6750                  14.776   \n",
       " \n",
       "      Star type Star color Spectral Class  \n",
       " 10           1        Red              M  \n",
       " 11           1        Red              M  \n",
       " 12           1        Red              M  \n",
       " 13           1        Red              M  \n",
       " 14           1        Red              M  \n",
       " 15           1        Red              M  \n",
       " 16           1        Red              M  \n",
       " 17           1        Red              M  \n",
       " 18           1        Red              M  \n",
       " 19           1        Red              M  \n",
       " 70           1        Red              M  \n",
       " 71           1        Red              M  \n",
       " 72           1        Red              M  \n",
       " 73           1        Red              M  \n",
       " 74           1        Red              M  \n",
       " 75           1        Red              M  \n",
       " 76           1        Red              M  \n",
       " 77           1        Red              M  \n",
       " 78           1        Red              M  \n",
       " 79           1        Red              M  \n",
       " 130          1        Red              M  \n",
       " 131          1        Red              M  \n",
       " 132          1        Red              M  \n",
       " 133          1        Red              M  \n",
       " 134          1        Red              M  \n",
       " 135          1        Red              M  \n",
       " 136          1        Red              M  \n",
       " 137          1        Red              M  \n",
       " 138          1        Red              M  \n",
       " 139          1        Red              M  \n",
       " 190          1        Red              M  \n",
       " 191          1        Red              M  \n",
       " 192          1        Red              M  \n",
       " 193          1        Red              M  \n",
       " 194          1        Red              M  \n",
       " 195          1        Red              M  \n",
       " 196          1        Red              M  \n",
       " 197          1        Red              M  \n",
       " 198          1        Red              M  \n",
       " 199          1        Red              M  ,\n",
       " [0      False\n",
       "  1      False\n",
       "  2      False\n",
       "  3      False\n",
       "  4      False\n",
       "         ...  \n",
       "  235    False\n",
       "  236    False\n",
       "  237    False\n",
       "  238    False\n",
       "  239    False\n",
       "  Name: Star type, Length: 240, dtype: bool])"
      ]
     },
     "execution_count": 59,
     "metadata": {},
     "output_type": "execute_result"
    }
   ],
   "source": [
    "data = pd.read_csv(file_path)\n",
    "y = data[data['Star type'] == 1],[data['Star type'] == 2]\n",
    "y"
   ]
  }
 ],
 "metadata": {
  "kernelspec": {
   "display_name": "Python 3",
   "language": "python",
   "name": "python3"
  },
  "language_info": {
   "codemirror_mode": {
    "name": "ipython",
    "version": 3
   },
   "file_extension": ".py",
   "mimetype": "text/x-python",
   "name": "python",
   "nbconvert_exporter": "python",
   "pygments_lexer": "ipython3",
   "version": "3.10.8"
  }
 },
 "nbformat": 4,
 "nbformat_minor": 2
}
