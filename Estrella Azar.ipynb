{
 "cells": [
  {
   "cell_type": "code",
   "execution_count": 22,
   "metadata": {},
   "outputs": [
    {
     "name": "stdout",
     "output_type": "stream",
     "text": [
      "Making 9000 records\n",
      "\n"
     ]
    }
   ],
   "source": [
    "import csv\n",
    "import random\n",
    "\n",
    "records=9000\n",
    "print(\"Making %d records\\n\" % records)\n",
    "\n",
    "fieldnames=['Temperature (K)','Luminosity (L/Lo)','Radius (R/Ro)','Absolute magnitude (Mv)','Star type','Star category','Star color','Spectral Class']\n",
    "writer = csv.DictWriter(open(\"EstrellaAzar.csv\", \"w\"), fieldnames=fieldnames)\n",
    "\n",
    "Spectral_Class = ('O','B','A','F','G','K','M')\n",
    "Star_Color = ('white','Red,Blue','Yellow','yellow-orange')\n",
    "Star_Category = ('Brown Dwarf')\n",
    "\n",
    "writer.writerow(dict(zip(fieldnames, fieldnames)))\n",
    "for i in range(0, records):\n",
    "  writer.writerow(dict([\n",
    "    ('Temperature (K)', random.randint(2000, 3000)),\n",
    "    ('Luminosity (L/Lo)', random.uniform(0.0001, 0.0025)),\n",
    "    ('Radius (R/Ro)', random.uniform(0.1, 0.2)),\n",
    "    ('Absolute magnitude (Mv)', random.uniform(15.1, 25.1)),\n",
    "    ('Star type', random.randint(0,5)),\n",
    "    ('Star category', random.choice(Star_Category)),\n",
    "    ('Star color', random.choice(Star_Color)),\n",
    "    ('Spectral Class', random.choice(Spectral_Class))]))\n"
   ]
  }
 ],
 "metadata": {
  "kernelspec": {
   "display_name": "Python 3",
   "language": "python",
   "name": "python3"
  },
  "language_info": {
   "codemirror_mode": {
    "name": "ipython",
    "version": 3
   },
   "file_extension": ".py",
   "mimetype": "text/x-python",
   "name": "python",
   "nbconvert_exporter": "python",
   "pygments_lexer": "ipython3",
   "version": "3.10.8"
  }
 },
 "nbformat": 4,
 "nbformat_minor": 2
}
