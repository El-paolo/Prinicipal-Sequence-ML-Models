{
  "nbformat": 4,
  "nbformat_minor": 0,
  "metadata": {
    "colab": {
      "provenance": []
    },
    "kernelspec": {
      "name": "python3",
      "display_name": "Python 3"
    },
    "language_info": {
      "name": "python"
    }
  },
  "cells": [
    {
      "cell_type": "code",
      "source": [
        " from luciferml.supervised.classification import Classification"
      ],
      "metadata": {
        "colab": {
          "base_uri": "https://localhost:8080/"
        },
        "id": "xnKxalY-fpRG",
        "outputId": "82151b5b-b769-451f-dfee-be2ee4fecadf"
      },
      "execution_count": null,
      "outputs": [
        {
          "output_type": "stream",
          "name": "stderr",
          "text": [
            "/usr/local/lib/python3.10/dist-packages/optuna/samplers/_tpe/sampler.py:319: ExperimentalWarning: ``multivariate`` option is an experimental feature. The interface can change in the future.\n",
            "  warnings.warn(\n"
          ]
        }
      ]
    },
    {
      "cell_type": "code",
      "execution_count": null,
      "metadata": {
        "colab": {
          "base_uri": "https://localhost:8080/",
          "height": 300
        },
        "id": "ePydNBIRdYgu",
        "outputId": "2f293bba-c1ca-4d00-cd13-f006aad7d45e"
      },
      "outputs": [
        {
          "output_type": "execute_result",
          "data": {
            "text/plain": [
              "       Temperature (K)  Luminosity(L/Lo)  Radius(R/Ro)  \\\n",
              "count       240.000000        240.000000    240.000000   \n",
              "mean      10497.462500     107188.361635    237.157781   \n",
              "std        9552.425037     179432.244940    517.155763   \n",
              "min        1939.000000          0.000080      0.008400   \n",
              "25%        3344.250000          0.000865      0.102750   \n",
              "50%        5776.000000          0.070500      0.762500   \n",
              "75%       15055.500000     198050.000000     42.750000   \n",
              "max       40000.000000     849420.000000   1948.500000   \n",
              "\n",
              "       Absolute magnitude(Mv)   Star type  \n",
              "count              240.000000  240.000000  \n",
              "mean                 4.382396    2.500000  \n",
              "std                 10.532512    1.711394  \n",
              "min                -11.920000    0.000000  \n",
              "25%                 -6.232500    1.000000  \n",
              "50%                  8.313000    2.500000  \n",
              "75%                 13.697500    4.000000  \n",
              "max                 20.060000    5.000000  "
            ],
            "text/html": [
              "\n",
              "  <div id=\"df-95546e5e-c30b-47a0-845e-23fc52715ef6\" class=\"colab-df-container\">\n",
              "    <div>\n",
              "<style scoped>\n",
              "    .dataframe tbody tr th:only-of-type {\n",
              "        vertical-align: middle;\n",
              "    }\n",
              "\n",
              "    .dataframe tbody tr th {\n",
              "        vertical-align: top;\n",
              "    }\n",
              "\n",
              "    .dataframe thead th {\n",
              "        text-align: right;\n",
              "    }\n",
              "</style>\n",
              "<table border=\"1\" class=\"dataframe\">\n",
              "  <thead>\n",
              "    <tr style=\"text-align: right;\">\n",
              "      <th></th>\n",
              "      <th>Temperature (K)</th>\n",
              "      <th>Luminosity(L/Lo)</th>\n",
              "      <th>Radius(R/Ro)</th>\n",
              "      <th>Absolute magnitude(Mv)</th>\n",
              "      <th>Star type</th>\n",
              "    </tr>\n",
              "  </thead>\n",
              "  <tbody>\n",
              "    <tr>\n",
              "      <th>count</th>\n",
              "      <td>240.000000</td>\n",
              "      <td>240.000000</td>\n",
              "      <td>240.000000</td>\n",
              "      <td>240.000000</td>\n",
              "      <td>240.000000</td>\n",
              "    </tr>\n",
              "    <tr>\n",
              "      <th>mean</th>\n",
              "      <td>10497.462500</td>\n",
              "      <td>107188.361635</td>\n",
              "      <td>237.157781</td>\n",
              "      <td>4.382396</td>\n",
              "      <td>2.500000</td>\n",
              "    </tr>\n",
              "    <tr>\n",
              "      <th>std</th>\n",
              "      <td>9552.425037</td>\n",
              "      <td>179432.244940</td>\n",
              "      <td>517.155763</td>\n",
              "      <td>10.532512</td>\n",
              "      <td>1.711394</td>\n",
              "    </tr>\n",
              "    <tr>\n",
              "      <th>min</th>\n",
              "      <td>1939.000000</td>\n",
              "      <td>0.000080</td>\n",
              "      <td>0.008400</td>\n",
              "      <td>-11.920000</td>\n",
              "      <td>0.000000</td>\n",
              "    </tr>\n",
              "    <tr>\n",
              "      <th>25%</th>\n",
              "      <td>3344.250000</td>\n",
              "      <td>0.000865</td>\n",
              "      <td>0.102750</td>\n",
              "      <td>-6.232500</td>\n",
              "      <td>1.000000</td>\n",
              "    </tr>\n",
              "    <tr>\n",
              "      <th>50%</th>\n",
              "      <td>5776.000000</td>\n",
              "      <td>0.070500</td>\n",
              "      <td>0.762500</td>\n",
              "      <td>8.313000</td>\n",
              "      <td>2.500000</td>\n",
              "    </tr>\n",
              "    <tr>\n",
              "      <th>75%</th>\n",
              "      <td>15055.500000</td>\n",
              "      <td>198050.000000</td>\n",
              "      <td>42.750000</td>\n",
              "      <td>13.697500</td>\n",
              "      <td>4.000000</td>\n",
              "    </tr>\n",
              "    <tr>\n",
              "      <th>max</th>\n",
              "      <td>40000.000000</td>\n",
              "      <td>849420.000000</td>\n",
              "      <td>1948.500000</td>\n",
              "      <td>20.060000</td>\n",
              "      <td>5.000000</td>\n",
              "    </tr>\n",
              "  </tbody>\n",
              "</table>\n",
              "</div>\n",
              "    <div class=\"colab-df-buttons\">\n",
              "\n",
              "  <div class=\"colab-df-container\">\n",
              "    <button class=\"colab-df-convert\" onclick=\"convertToInteractive('df-95546e5e-c30b-47a0-845e-23fc52715ef6')\"\n",
              "            title=\"Convert this dataframe to an interactive table.\"\n",
              "            style=\"display:none;\">\n",
              "\n",
              "  <svg xmlns=\"http://www.w3.org/2000/svg\" height=\"24px\" viewBox=\"0 -960 960 960\">\n",
              "    <path d=\"M120-120v-720h720v720H120Zm60-500h600v-160H180v160Zm220 220h160v-160H400v160Zm0 220h160v-160H400v160ZM180-400h160v-160H180v160Zm440 0h160v-160H620v160ZM180-180h160v-160H180v160Zm440 0h160v-160H620v160Z\"/>\n",
              "  </svg>\n",
              "    </button>\n",
              "\n",
              "  <style>\n",
              "    .colab-df-container {\n",
              "      display:flex;\n",
              "      gap: 12px;\n",
              "    }\n",
              "\n",
              "    .colab-df-convert {\n",
              "      background-color: #E8F0FE;\n",
              "      border: none;\n",
              "      border-radius: 50%;\n",
              "      cursor: pointer;\n",
              "      display: none;\n",
              "      fill: #1967D2;\n",
              "      height: 32px;\n",
              "      padding: 0 0 0 0;\n",
              "      width: 32px;\n",
              "    }\n",
              "\n",
              "    .colab-df-convert:hover {\n",
              "      background-color: #E2EBFA;\n",
              "      box-shadow: 0px 1px 2px rgba(60, 64, 67, 0.3), 0px 1px 3px 1px rgba(60, 64, 67, 0.15);\n",
              "      fill: #174EA6;\n",
              "    }\n",
              "\n",
              "    .colab-df-buttons div {\n",
              "      margin-bottom: 4px;\n",
              "    }\n",
              "\n",
              "    [theme=dark] .colab-df-convert {\n",
              "      background-color: #3B4455;\n",
              "      fill: #D2E3FC;\n",
              "    }\n",
              "\n",
              "    [theme=dark] .colab-df-convert:hover {\n",
              "      background-color: #434B5C;\n",
              "      box-shadow: 0px 1px 3px 1px rgba(0, 0, 0, 0.15);\n",
              "      filter: drop-shadow(0px 1px 2px rgba(0, 0, 0, 0.3));\n",
              "      fill: #FFFFFF;\n",
              "    }\n",
              "  </style>\n",
              "\n",
              "    <script>\n",
              "      const buttonEl =\n",
              "        document.querySelector('#df-95546e5e-c30b-47a0-845e-23fc52715ef6 button.colab-df-convert');\n",
              "      buttonEl.style.display =\n",
              "        google.colab.kernel.accessAllowed ? 'block' : 'none';\n",
              "\n",
              "      async function convertToInteractive(key) {\n",
              "        const element = document.querySelector('#df-95546e5e-c30b-47a0-845e-23fc52715ef6');\n",
              "        const dataTable =\n",
              "          await google.colab.kernel.invokeFunction('convertToInteractive',\n",
              "                                                    [key], {});\n",
              "        if (!dataTable) return;\n",
              "\n",
              "        const docLinkHtml = 'Like what you see? Visit the ' +\n",
              "          '<a target=\"_blank\" href=https://colab.research.google.com/notebooks/data_table.ipynb>data table notebook</a>'\n",
              "          + ' to learn more about interactive tables.';\n",
              "        element.innerHTML = '';\n",
              "        dataTable['output_type'] = 'display_data';\n",
              "        await google.colab.output.renderOutput(dataTable, element);\n",
              "        const docLink = document.createElement('div');\n",
              "        docLink.innerHTML = docLinkHtml;\n",
              "        element.appendChild(docLink);\n",
              "      }\n",
              "    </script>\n",
              "  </div>\n",
              "\n",
              "\n",
              "<div id=\"df-201bc70a-40ed-4f01-8da1-d2ef810ce08a\">\n",
              "  <button class=\"colab-df-quickchart\" onclick=\"quickchart('df-201bc70a-40ed-4f01-8da1-d2ef810ce08a')\"\n",
              "            title=\"Suggest charts\"\n",
              "            style=\"display:none;\">\n",
              "\n",
              "<svg xmlns=\"http://www.w3.org/2000/svg\" height=\"24px\"viewBox=\"0 0 24 24\"\n",
              "     width=\"24px\">\n",
              "    <g>\n",
              "        <path d=\"M19 3H5c-1.1 0-2 .9-2 2v14c0 1.1.9 2 2 2h14c1.1 0 2-.9 2-2V5c0-1.1-.9-2-2-2zM9 17H7v-7h2v7zm4 0h-2V7h2v10zm4 0h-2v-4h2v4z\"/>\n",
              "    </g>\n",
              "</svg>\n",
              "  </button>\n",
              "\n",
              "<style>\n",
              "  .colab-df-quickchart {\n",
              "      --bg-color: #E8F0FE;\n",
              "      --fill-color: #1967D2;\n",
              "      --hover-bg-color: #E2EBFA;\n",
              "      --hover-fill-color: #174EA6;\n",
              "      --disabled-fill-color: #AAA;\n",
              "      --disabled-bg-color: #DDD;\n",
              "  }\n",
              "\n",
              "  [theme=dark] .colab-df-quickchart {\n",
              "      --bg-color: #3B4455;\n",
              "      --fill-color: #D2E3FC;\n",
              "      --hover-bg-color: #434B5C;\n",
              "      --hover-fill-color: #FFFFFF;\n",
              "      --disabled-bg-color: #3B4455;\n",
              "      --disabled-fill-color: #666;\n",
              "  }\n",
              "\n",
              "  .colab-df-quickchart {\n",
              "    background-color: var(--bg-color);\n",
              "    border: none;\n",
              "    border-radius: 50%;\n",
              "    cursor: pointer;\n",
              "    display: none;\n",
              "    fill: var(--fill-color);\n",
              "    height: 32px;\n",
              "    padding: 0;\n",
              "    width: 32px;\n",
              "  }\n",
              "\n",
              "  .colab-df-quickchart:hover {\n",
              "    background-color: var(--hover-bg-color);\n",
              "    box-shadow: 0 1px 2px rgba(60, 64, 67, 0.3), 0 1px 3px 1px rgba(60, 64, 67, 0.15);\n",
              "    fill: var(--button-hover-fill-color);\n",
              "  }\n",
              "\n",
              "  .colab-df-quickchart-complete:disabled,\n",
              "  .colab-df-quickchart-complete:disabled:hover {\n",
              "    background-color: var(--disabled-bg-color);\n",
              "    fill: var(--disabled-fill-color);\n",
              "    box-shadow: none;\n",
              "  }\n",
              "\n",
              "  .colab-df-spinner {\n",
              "    border: 2px solid var(--fill-color);\n",
              "    border-color: transparent;\n",
              "    border-bottom-color: var(--fill-color);\n",
              "    animation:\n",
              "      spin 1s steps(1) infinite;\n",
              "  }\n",
              "\n",
              "  @keyframes spin {\n",
              "    0% {\n",
              "      border-color: transparent;\n",
              "      border-bottom-color: var(--fill-color);\n",
              "      border-left-color: var(--fill-color);\n",
              "    }\n",
              "    20% {\n",
              "      border-color: transparent;\n",
              "      border-left-color: var(--fill-color);\n",
              "      border-top-color: var(--fill-color);\n",
              "    }\n",
              "    30% {\n",
              "      border-color: transparent;\n",
              "      border-left-color: var(--fill-color);\n",
              "      border-top-color: var(--fill-color);\n",
              "      border-right-color: var(--fill-color);\n",
              "    }\n",
              "    40% {\n",
              "      border-color: transparent;\n",
              "      border-right-color: var(--fill-color);\n",
              "      border-top-color: var(--fill-color);\n",
              "    }\n",
              "    60% {\n",
              "      border-color: transparent;\n",
              "      border-right-color: var(--fill-color);\n",
              "    }\n",
              "    80% {\n",
              "      border-color: transparent;\n",
              "      border-right-color: var(--fill-color);\n",
              "      border-bottom-color: var(--fill-color);\n",
              "    }\n",
              "    90% {\n",
              "      border-color: transparent;\n",
              "      border-bottom-color: var(--fill-color);\n",
              "    }\n",
              "  }\n",
              "</style>\n",
              "\n",
              "  <script>\n",
              "    async function quickchart(key) {\n",
              "      const quickchartButtonEl =\n",
              "        document.querySelector('#' + key + ' button');\n",
              "      quickchartButtonEl.disabled = true;  // To prevent multiple clicks.\n",
              "      quickchartButtonEl.classList.add('colab-df-spinner');\n",
              "      try {\n",
              "        const charts = await google.colab.kernel.invokeFunction(\n",
              "            'suggestCharts', [key], {});\n",
              "      } catch (error) {\n",
              "        console.error('Error during call to suggestCharts:', error);\n",
              "      }\n",
              "      quickchartButtonEl.classList.remove('colab-df-spinner');\n",
              "      quickchartButtonEl.classList.add('colab-df-quickchart-complete');\n",
              "    }\n",
              "    (() => {\n",
              "      let quickchartButtonEl =\n",
              "        document.querySelector('#df-201bc70a-40ed-4f01-8da1-d2ef810ce08a button');\n",
              "      quickchartButtonEl.style.display =\n",
              "        google.colab.kernel.accessAllowed ? 'block' : 'none';\n",
              "    })();\n",
              "  </script>\n",
              "</div>\n",
              "\n",
              "    </div>\n",
              "  </div>\n"
            ],
            "application/vnd.google.colaboratory.intrinsic+json": {
              "type": "dataframe",
              "summary": "{\n  \"name\": \"star\",\n  \"rows\": 8,\n  \"fields\": [\n    {\n      \"column\": \"Temperature (K)\",\n      \"properties\": {\n        \"dtype\": \"number\",\n        \"std\": 12779.766121551887,\n        \"min\": 240.0,\n        \"max\": 40000.0,\n        \"num_unique_values\": 8,\n        \"samples\": [\n          10497.4625,\n          5776.0,\n          240.0\n        ],\n        \"semantic_type\": \"\",\n        \"description\": \"\"\n      }\n    },\n    {\n      \"column\": \"Luminosity(L/Lo)\",\n      \"properties\": {\n        \"dtype\": \"number\",\n        \"std\": 288312.4983927237,\n        \"min\": 8e-05,\n        \"max\": 849420.0,\n        \"num_unique_values\": 8,\n        \"samples\": [\n          107188.36163460833,\n          0.07050000000000001,\n          240.0\n        ],\n        \"semantic_type\": \"\",\n        \"description\": \"\"\n      }\n    },\n    {\n      \"column\": \"Radius(R/Ro)\",\n      \"properties\": {\n        \"dtype\": \"number\",\n        \"std\": 661.6994798706687,\n        \"min\": 0.0084,\n        \"max\": 1948.5,\n        \"num_unique_values\": 8,\n        \"samples\": [\n          237.157781375,\n          0.7625,\n          240.0\n        ],\n        \"semantic_type\": \"\",\n        \"description\": \"\"\n      }\n    },\n    {\n      \"column\": \"Absolute magnitude(Mv)\",\n      \"properties\": {\n        \"dtype\": \"number\",\n        \"std\": 83.53932085753395,\n        \"min\": -11.92,\n        \"max\": 240.0,\n        \"num_unique_values\": 8,\n        \"samples\": [\n          4.382395833333334,\n          8.312999999999999,\n          240.0\n        ],\n        \"semantic_type\": \"\",\n        \"description\": \"\"\n      }\n    },\n    {\n      \"column\": \"Star type\",\n      \"properties\": {\n        \"dtype\": \"number\",\n        \"std\": 84.0236670551891,\n        \"min\": 0.0,\n        \"max\": 240.0,\n        \"num_unique_values\": 7,\n        \"samples\": [\n          240.0,\n          2.5,\n          4.0\n        ],\n        \"semantic_type\": \"\",\n        \"description\": \"\"\n      }\n    }\n  ]\n}"
            }
          },
          "metadata": {},
          "execution_count": 25
        }
      ],
      "source": [
        "import pandas as pd\n",
        "import matplotlib.pyplot as plt\n",
        "plt.style.use('fivethirtyeight')\n",
        "plt.style.use('dark_background')\n",
        "import numpy as np\n",
        "import pandas as pd\n",
        "import seaborn as sns\n",
        "import plotly.express as px\n",
        "import plotly.graph_objects as go\n",
        "import numpy as np\n",
        "star = pd.read_csv ('6 class csv.csv')\n",
        "star.head()\n",
        "\n",
        "star.describe()"
      ]
    },
    {
      "cell_type": "code",
      "source": [
        "star.shape"
      ],
      "metadata": {
        "colab": {
          "base_uri": "https://localhost:8080/"
        },
        "id": "aI0VWEvDeUWn",
        "outputId": "d3562b24-ac37-4155-ed9e-2855475639c9"
      },
      "execution_count": null,
      "outputs": [
        {
          "output_type": "execute_result",
          "data": {
            "text/plain": [
              "(240, 7)"
            ]
          },
          "metadata": {},
          "execution_count": 22
        }
      ]
    },
    {
      "cell_type": "code",
      "source": [
        "star.isnull().sum() #???"
      ],
      "metadata": {
        "colab": {
          "base_uri": "https://localhost:8080/"
        },
        "id": "cSb30gvzfCua",
        "outputId": "79ca1d38-9dad-4d6d-e626-ceaf40d72d12"
      },
      "execution_count": null,
      "outputs": [
        {
          "output_type": "execute_result",
          "data": {
            "text/plain": [
              "Temperature (K)           0\n",
              "Luminosity(L/Lo)          0\n",
              "Radius(R/Ro)              0\n",
              "Absolute magnitude(Mv)    0\n",
              "Star type                 0\n",
              "Star color                0\n",
              "Spectral Class            0\n",
              "dtype: int64"
            ]
          },
          "metadata": {},
          "execution_count": 20
        }
      ]
    },
    {
      "cell_type": "code",
      "source": [
        "star.info()"
      ],
      "metadata": {
        "colab": {
          "base_uri": "https://localhost:8080/"
        },
        "id": "rX53LtXwgUsY",
        "outputId": "f6aa73dc-31cd-419b-d614-ea200dc63541"
      },
      "execution_count": null,
      "outputs": [
        {
          "output_type": "stream",
          "name": "stdout",
          "text": [
            "<class 'pandas.core.frame.DataFrame'>\n",
            "RangeIndex: 240 entries, 0 to 239\n",
            "Data columns (total 7 columns):\n",
            " #   Column                  Non-Null Count  Dtype  \n",
            "---  ------                  --------------  -----  \n",
            " 0   Temperature (K)         240 non-null    int64  \n",
            " 1   Luminosity(L/Lo)        240 non-null    float64\n",
            " 2   Radius(R/Ro)            240 non-null    float64\n",
            " 3   Absolute magnitude(Mv)  240 non-null    float64\n",
            " 4   Star type               240 non-null    int64  \n",
            " 5   Star color              240 non-null    object \n",
            " 6   Spectral Class          240 non-null    object \n",
            "dtypes: float64(3), int64(2), object(2)\n",
            "memory usage: 13.2+ KB\n"
          ]
        }
      ]
    },
    {
      "cell_type": "code",
      "source": [
        "star.describe().T.style.bar(\n",
        "    subset=['mean'],\n",
        "    color='#606ff2').background_gradient(\n",
        "    subset=['std'], cmap='PuBu').background_gradient(subset=['50%'], cmap='PuBu')"
      ],
      "metadata": {
        "colab": {
          "base_uri": "https://localhost:8080/",
          "height": 206
        },
        "id": "9HSEL61sgn5t",
        "outputId": "b696187b-44fe-46bd-acbf-be2a4a1dfc63"
      },
      "execution_count": null,
      "outputs": [
        {
          "output_type": "execute_result",
          "data": {
            "text/plain": [
              "<pandas.io.formats.style.Styler at 0x799929bcd0f0>"
            ],
            "text/html": [
              "<style type=\"text/css\">\n",
              "#T_72a9d_row0_col1 {\n",
              "  width: 10em;\n",
              "  background: linear-gradient(90deg, #606ff2 9.8%, transparent 9.8%);\n",
              "}\n",
              "#T_72a9d_row0_col2 {\n",
              "  background-color: #f7f0f7;\n",
              "  color: #000000;\n",
              "}\n",
              "#T_72a9d_row0_col5, #T_72a9d_row1_col2 {\n",
              "  background-color: #023858;\n",
              "  color: #f1f1f1;\n",
              "}\n",
              "#T_72a9d_row1_col1 {\n",
              "  width: 10em;\n",
              "  background: linear-gradient(90deg, #606ff2 100.0%, transparent 100.0%);\n",
              "}\n",
              "#T_72a9d_row1_col5, #T_72a9d_row2_col2, #T_72a9d_row2_col5, #T_72a9d_row3_col2, #T_72a9d_row3_col5, #T_72a9d_row4_col2, #T_72a9d_row4_col5 {\n",
              "  background-color: #fff7fb;\n",
              "  color: #000000;\n",
              "}\n",
              "#T_72a9d_row2_col1 {\n",
              "  width: 10em;\n",
              "  background: linear-gradient(90deg, #606ff2 0.2%, transparent 0.2%);\n",
              "}\n",
              "#T_72a9d_row3_col1, #T_72a9d_row4_col1 {\n",
              "  width: 10em;\n",
              "  background: linear-gradient(90deg, #606ff2 0.0%, transparent 0.0%);\n",
              "}\n",
              "</style>\n",
              "<table id=\"T_72a9d\" class=\"dataframe\">\n",
              "  <thead>\n",
              "    <tr>\n",
              "      <th class=\"blank level0\" >&nbsp;</th>\n",
              "      <th id=\"T_72a9d_level0_col0\" class=\"col_heading level0 col0\" >count</th>\n",
              "      <th id=\"T_72a9d_level0_col1\" class=\"col_heading level0 col1\" >mean</th>\n",
              "      <th id=\"T_72a9d_level0_col2\" class=\"col_heading level0 col2\" >std</th>\n",
              "      <th id=\"T_72a9d_level0_col3\" class=\"col_heading level0 col3\" >min</th>\n",
              "      <th id=\"T_72a9d_level0_col4\" class=\"col_heading level0 col4\" >25%</th>\n",
              "      <th id=\"T_72a9d_level0_col5\" class=\"col_heading level0 col5\" >50%</th>\n",
              "      <th id=\"T_72a9d_level0_col6\" class=\"col_heading level0 col6\" >75%</th>\n",
              "      <th id=\"T_72a9d_level0_col7\" class=\"col_heading level0 col7\" >max</th>\n",
              "    </tr>\n",
              "  </thead>\n",
              "  <tbody>\n",
              "    <tr>\n",
              "      <th id=\"T_72a9d_level0_row0\" class=\"row_heading level0 row0\" >Temperature (K)</th>\n",
              "      <td id=\"T_72a9d_row0_col0\" class=\"data row0 col0\" >240.000000</td>\n",
              "      <td id=\"T_72a9d_row0_col1\" class=\"data row0 col1\" >10497.462500</td>\n",
              "      <td id=\"T_72a9d_row0_col2\" class=\"data row0 col2\" >9552.425037</td>\n",
              "      <td id=\"T_72a9d_row0_col3\" class=\"data row0 col3\" >1939.000000</td>\n",
              "      <td id=\"T_72a9d_row0_col4\" class=\"data row0 col4\" >3344.250000</td>\n",
              "      <td id=\"T_72a9d_row0_col5\" class=\"data row0 col5\" >5776.000000</td>\n",
              "      <td id=\"T_72a9d_row0_col6\" class=\"data row0 col6\" >15055.500000</td>\n",
              "      <td id=\"T_72a9d_row0_col7\" class=\"data row0 col7\" >40000.000000</td>\n",
              "    </tr>\n",
              "    <tr>\n",
              "      <th id=\"T_72a9d_level0_row1\" class=\"row_heading level0 row1\" >Luminosity(L/Lo)</th>\n",
              "      <td id=\"T_72a9d_row1_col0\" class=\"data row1 col0\" >240.000000</td>\n",
              "      <td id=\"T_72a9d_row1_col1\" class=\"data row1 col1\" >107188.361635</td>\n",
              "      <td id=\"T_72a9d_row1_col2\" class=\"data row1 col2\" >179432.244940</td>\n",
              "      <td id=\"T_72a9d_row1_col3\" class=\"data row1 col3\" >0.000080</td>\n",
              "      <td id=\"T_72a9d_row1_col4\" class=\"data row1 col4\" >0.000865</td>\n",
              "      <td id=\"T_72a9d_row1_col5\" class=\"data row1 col5\" >0.070500</td>\n",
              "      <td id=\"T_72a9d_row1_col6\" class=\"data row1 col6\" >198050.000000</td>\n",
              "      <td id=\"T_72a9d_row1_col7\" class=\"data row1 col7\" >849420.000000</td>\n",
              "    </tr>\n",
              "    <tr>\n",
              "      <th id=\"T_72a9d_level0_row2\" class=\"row_heading level0 row2\" >Radius(R/Ro)</th>\n",
              "      <td id=\"T_72a9d_row2_col0\" class=\"data row2 col0\" >240.000000</td>\n",
              "      <td id=\"T_72a9d_row2_col1\" class=\"data row2 col1\" >237.157781</td>\n",
              "      <td id=\"T_72a9d_row2_col2\" class=\"data row2 col2\" >517.155763</td>\n",
              "      <td id=\"T_72a9d_row2_col3\" class=\"data row2 col3\" >0.008400</td>\n",
              "      <td id=\"T_72a9d_row2_col4\" class=\"data row2 col4\" >0.102750</td>\n",
              "      <td id=\"T_72a9d_row2_col5\" class=\"data row2 col5\" >0.762500</td>\n",
              "      <td id=\"T_72a9d_row2_col6\" class=\"data row2 col6\" >42.750000</td>\n",
              "      <td id=\"T_72a9d_row2_col7\" class=\"data row2 col7\" >1948.500000</td>\n",
              "    </tr>\n",
              "    <tr>\n",
              "      <th id=\"T_72a9d_level0_row3\" class=\"row_heading level0 row3\" >Absolute magnitude(Mv)</th>\n",
              "      <td id=\"T_72a9d_row3_col0\" class=\"data row3 col0\" >240.000000</td>\n",
              "      <td id=\"T_72a9d_row3_col1\" class=\"data row3 col1\" >4.382396</td>\n",
              "      <td id=\"T_72a9d_row3_col2\" class=\"data row3 col2\" >10.532512</td>\n",
              "      <td id=\"T_72a9d_row3_col3\" class=\"data row3 col3\" >-11.920000</td>\n",
              "      <td id=\"T_72a9d_row3_col4\" class=\"data row3 col4\" >-6.232500</td>\n",
              "      <td id=\"T_72a9d_row3_col5\" class=\"data row3 col5\" >8.313000</td>\n",
              "      <td id=\"T_72a9d_row3_col6\" class=\"data row3 col6\" >13.697500</td>\n",
              "      <td id=\"T_72a9d_row3_col7\" class=\"data row3 col7\" >20.060000</td>\n",
              "    </tr>\n",
              "    <tr>\n",
              "      <th id=\"T_72a9d_level0_row4\" class=\"row_heading level0 row4\" >Star type</th>\n",
              "      <td id=\"T_72a9d_row4_col0\" class=\"data row4 col0\" >240.000000</td>\n",
              "      <td id=\"T_72a9d_row4_col1\" class=\"data row4 col1\" >2.500000</td>\n",
              "      <td id=\"T_72a9d_row4_col2\" class=\"data row4 col2\" >1.711394</td>\n",
              "      <td id=\"T_72a9d_row4_col3\" class=\"data row4 col3\" >0.000000</td>\n",
              "      <td id=\"T_72a9d_row4_col4\" class=\"data row4 col4\" >1.000000</td>\n",
              "      <td id=\"T_72a9d_row4_col5\" class=\"data row4 col5\" >2.500000</td>\n",
              "      <td id=\"T_72a9d_row4_col6\" class=\"data row4 col6\" >4.000000</td>\n",
              "      <td id=\"T_72a9d_row4_col7\" class=\"data row4 col7\" >5.000000</td>\n",
              "    </tr>\n",
              "  </tbody>\n",
              "</table>\n"
            ]
          },
          "metadata": {},
          "execution_count": 26
        }
      ]
    },
    {
      "cell_type": "code",
      "source": [
        "features = star.iloc[:, :-1]\n",
        "labels = star.iloc[:, -1]"
      ],
      "metadata": {
        "id": "h4dO7pi4gxH_"
      },
      "execution_count": null,
      "outputs": []
    },
    {
      "cell_type": "code",
      "source": [
        "accuracy_scores =  {}"
      ],
      "metadata": {
        "id": "rzFMHi_0hEAq"
      },
      "execution_count": null,
      "outputs": []
    },
    {
      "cell_type": "code",
      "source": [
        "#arboles de decisión\n",
        "params = {'criterion': 'entropy', 'max_depth': 15, 'max_features': 2, 'splitter': 'best', 'random_state': 42}\n",
        "classifier =  Classification(predictor = 'dt',params=params)\n",
        "classifier.fit(features, labels)\n",
        "result = classifier.result()\n",
        "accuracy_scores[result['Classifier']] = result['Accuracy']"
      ],
      "metadata": {
        "colab": {
          "base_uri": "https://localhost:8080/",
          "height": 1000
        },
        "id": "YxWJMiMkhWkD",
        "outputId": "1b1a48f6-2aff-4d40-94a0-e99495fd7b57"
      },
      "execution_count": null,
      "outputs": [
        {
          "output_type": "stream",
          "name": "stdout",
          "text": [
            "\u001b[35m\n",
            "          \n",
            "██╗░░░░░██╗░░░██╗░█████╗░██╗███████╗███████╗██████╗░░░░░░░███╗░░░███╗██╗░░░░░\n",
            "██║░░░░░██║░░░██║██╔══██╗██║██╔════╝██╔════╝██╔══██╗░░░░░░████╗░████║██║░░░░░\n",
            "██║░░░░░██║░░░██║██║░░╚═╝██║█████╗░░█████╗░░██████╔╝█████╗██╔████╔██║██║░░░░░\n",
            "██║░░░░░██║░░░██║██║░░██╗██║██╔══╝░░██╔══╝░░██╔══██╗╚════╝██║╚██╔╝██║██║░░░░░\n",
            "███████╗╚██████╔╝╚█████╔╝██║██║░░░░░███████╗██║░░██║░░░░░░██║░╚═╝░██║███████╗\n",
            "╚══════╝░╚═════╝░░╚════╝░╚═╝╚═╝░░░░░╚══════╝╚═╝░░╚═╝░░░░░░╚═╝░░░░░╚═╝╚══════╝\n",
            " \n",
            "\n",
            "\u001b[32mStarted LuciferML [ ✓ ]\n",
            "\n",
            "\u001b[33mPreprocessing Started [*]\n",
            "\n",
            "\u001b[32mPreprocessing Done [ ✓ ]\n",
            "\n",
            "\u001b[33mTraining Decision Tree Classifier on Training Set [*]\n",
            "\n",
            "\u001b[32mModel Trained Successfully [ ✓ ]\n",
            "\n",
            "\u001b[33mEvaluating Model Performance [*]\n",
            "\n",
            "\u001b[36m        Validation Accuracy is : 93.75 %\n",
            "        KFold Accuracy: 94.82 %\n",
            "        Standard Deviation: 4.01 % \n",
            "\n"
          ]
        },
        {
          "output_type": "display_data",
          "data": {
            "text/plain": [
              "<Figure size 640x480 with 2 Axes>"
            ],
            "image/png": "[encoded data removed]"
          },
          "metadata": {}
        },
        {
          "output_type": "stream",
          "name": "stdout",
          "text": [
            "\u001b[32mModel Evaluation Completed [ ✓ ]\n",
            "\n",
            "\u001b[32mCompleted LuciferML Run [ ✓ ]\n",
            "\n",
            "\u001b[34mTime Elapsed :  0.56 seconds \n",
            "\n"
          ]
        }
      ]
    },
    {
      "cell_type": "code",
      "source": [
        "#support vector machine\n",
        "params = {'C': 11.288378916846883, 'gamma': 0.001, 'kernel': 'linear'}\n",
        "classifier =  Classification(predictor = 'svm',params=params)\n",
        "classifier.fit(features, labels)\n",
        "result = classifier.result()\n",
        "accuracy_scores[result['Classifier']] = result['Accuracy']"
      ],
      "metadata": {
        "colab": {
          "base_uri": "https://localhost:8080/",
          "height": 1000
        },
        "id": "UUPTZsRdh8tG",
        "outputId": "b645dae9-4c7b-40dc-cf5a-11ede85e6b92"
      },
      "execution_count": null,
      "outputs": [
        {
          "output_type": "stream",
          "name": "stdout",
          "text": [
            "\u001b[35m\n",
            "          \n",
            "██╗░░░░░██╗░░░██╗░█████╗░██╗███████╗███████╗██████╗░░░░░░░███╗░░░███╗██╗░░░░░\n",
            "██║░░░░░██║░░░██║██╔══██╗██║██╔════╝██╔════╝██╔══██╗░░░░░░████╗░████║██║░░░░░\n",
            "██║░░░░░██║░░░██║██║░░╚═╝██║█████╗░░█████╗░░██████╔╝█████╗██╔████╔██║██║░░░░░\n",
            "██║░░░░░██║░░░██║██║░░██╗██║██╔══╝░░██╔══╝░░██╔══██╗╚════╝██║╚██╔╝██║██║░░░░░\n",
            "███████╗╚██████╔╝╚█████╔╝██║██║░░░░░███████╗██║░░██║░░░░░░██║░╚═╝░██║███████╗\n",
            "╚══════╝░╚═════╝░░╚════╝░╚═╝╚═╝░░░░░╚══════╝╚═╝░░╚═╝░░░░░░╚═╝░░░░░╚═╝╚══════╝\n",
            " \n",
            "\n",
            "\u001b[32mStarted LuciferML [ ✓ ]\n",
            "\n",
            "\u001b[33mPreprocessing Started [*]\n",
            "\n",
            "\u001b[32mPreprocessing Done [ ✓ ]\n",
            "\n",
            "\u001b[33mTraining Support Vector Machine on Training Set [*]\n",
            "\n",
            "\u001b[32mModel Trained Successfully [ ✓ ]\n",
            "\n",
            "\u001b[33mEvaluating Model Performance [*]\n",
            "\n",
            "\u001b[36m        Validation Accuracy is : 95.83 %\n",
            "        KFold Accuracy: 98.95 %\n",
            "        Standard Deviation: 2.11 % \n",
            "\n"
          ]
        },
        {
          "output_type": "display_data",
          "data": {
            "text/plain": [
              "<Figure size 640x480 with 2 Axes>"
            ],
            "image/png": "[encoded data removed]"
          },
          "metadata": {}
        },
        {
          "output_type": "stream",
          "name": "stdout",
          "text": [
            "\u001b[32mModel Evaluation Completed [ ✓ ]\n",
            "\n",
            "\u001b[32mCompleted LuciferML Run [ ✓ ]\n",
            "\n",
            "\u001b[34mTime Elapsed :  0.52 seconds \n",
            "\n"
          ]
        }
      ]
    },
    {
      "cell_type": "code",
      "source": [
        "#KNN\n",
        "params = {'algorithm': 'auto', 'n_jobs': 1, 'n_neighbors': 6, 'weights': 'distance'}\n",
        "classifier =  Classification(predictor = 'knn',params=params)\n",
        "classifier.fit(features, labels)\n",
        "result = classifier.result()\n",
        "accuracy_scores[result['Classifier']] = result['Accuracy']"
      ],
      "metadata": {
        "colab": {
          "base_uri": "https://localhost:8080/",
          "height": 1000
        },
        "id": "277NSbwEiMyq",
        "outputId": "88848e8e-24b4-4c30-da78-6440a4710a18"
      },
      "execution_count": null,
      "outputs": [
        {
          "output_type": "stream",
          "name": "stdout",
          "text": [
            "\u001b[35m\n",
            "          \n",
            "██╗░░░░░██╗░░░██╗░█████╗░██╗███████╗███████╗██████╗░░░░░░░███╗░░░███╗██╗░░░░░\n",
            "██║░░░░░██║░░░██║██╔══██╗██║██╔════╝██╔════╝██╔══██╗░░░░░░████╗░████║██║░░░░░\n",
            "██║░░░░░██║░░░██║██║░░╚═╝██║█████╗░░█████╗░░██████╔╝█████╗██╔████╔██║██║░░░░░\n",
            "██║░░░░░██║░░░██║██║░░██╗██║██╔══╝░░██╔══╝░░██╔══██╗╚════╝██║╚██╔╝██║██║░░░░░\n",
            "███████╗╚██████╔╝╚█████╔╝██║██║░░░░░███████╗██║░░██║░░░░░░██║░╚═╝░██║███████╗\n",
            "╚══════╝░╚═════╝░░╚════╝░╚═╝╚═╝░░░░░╚══════╝╚═╝░░╚═╝░░░░░░╚═╝░░░░░╚═╝╚══════╝\n",
            " \n",
            "\n",
            "\u001b[32mStarted LuciferML [ ✓ ]\n",
            "\n",
            "\u001b[33mPreprocessing Started [*]\n",
            "\n",
            "\u001b[32mPreprocessing Done [ ✓ ]\n",
            "\n",
            "\u001b[33mTraining K-Nearest Neighbours on Training Set [*]\n",
            "\n",
            "\u001b[32mModel Trained Successfully [ ✓ ]\n",
            "\n",
            "\u001b[33mEvaluating Model Performance [*]\n",
            "\n",
            "\u001b[36m        Validation Accuracy is : 91.67 %\n",
            "        KFold Accuracy: 96.37 %\n",
            "        Standard Deviation: 3.27 % \n",
            "\n"
          ]
        },
        {
          "output_type": "display_data",
          "data": {
            "text/plain": [
              "<Figure size 640x480 with 2 Axes>"
            ],
            "image/png": "[encoded data removed]"
          },
          "metadata": {}
        },
        {
          "output_type": "stream",
          "name": "stdout",
          "text": [
            "\u001b[32mModel Evaluation Completed [ ✓ ]\n",
            "\n",
            "\u001b[32mCompleted LuciferML Run [ ✓ ]\n",
            "\n",
            "\u001b[34mTime Elapsed :  0.41 seconds \n",
            "\n"
          ]
        }
      ]
    }
  ]
}